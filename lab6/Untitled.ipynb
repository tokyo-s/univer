{
 "cells": [
  {
   "cell_type": "code",
   "execution_count": 7,
   "id": "3f0a0e1d-4658-4de4-bd5c-e8a499847c4f",
   "metadata": {},
   "outputs": [
    {
     "name": "stdout",
     "output_type": "stream",
     "text": [
      "Numele titularului - Dupont, soldul contului = 1000\n",
      "Numele titularului - Dupont, soldul contului = 1200\n",
      "Numele titularului - Dupont, soldul contului = 1000\n"
     ]
    }
   ],
   "source": [
    "class BankAccount:\n",
    "    \n",
    "    def __init__(self, name = 'Dupont', balance = 1000):\n",
    "        self.name = name\n",
    "        self.balance = balance\n",
    "        \n",
    "    def depozit(self, suma):\n",
    "        self.balance+=suma\n",
    "    \n",
    "    def retragere(self, suma):\n",
    "        self.balance-=suma\n",
    "        \n",
    "    def sold(self):\n",
    "        print(f'Numele titularului - {self.name}, soldul contului = {self.balance}')\n",
    "        \n",
    "cont = BankAccount()\n",
    "cont.sold()\n",
    "cont.depozit(200)\n",
    "cont.sold()\n",
    "cont.retragere(200)\n",
    "cont.sold()"
   ]
  },
  {
   "cell_type": "code",
   "execution_count": 15,
   "id": "e2b03de7-b50e-4e16-901f-eefa668bc889",
   "metadata": {},
   "outputs": [
    {
     "name": "stdout",
     "output_type": "stream",
     "text": [
      "Marca: Ford\n",
      "Culoare: rosu\n",
      "Sofer: persoana\n",
      "Viteza: 0 m/s\n",
      "\n",
      "Marca: Ford\n",
      "Culoare: rosu\n",
      "Sofer: Marcel\n",
      "Viteza: 0 m/s\n",
      "\n",
      "Marca: Ford\n",
      "Culoare: rosu\n",
      "Sofer: Marcel\n",
      "Viteza: 200 m/s\n",
      "\n",
      "Marca: Ford\n",
      "Culoare: rosu\n",
      "Sofer: Marcel\n",
      "Viteza: 0 m/s\n"
     ]
    }
   ],
   "source": [
    "class Car:\n",
    "    \n",
    "    def __init__(self, marca = 'Ford', culoare = 'rosu', sofer = 'persoana', viteza = 0):\n",
    "        self.marca = marca\n",
    "        self.culoare = culoare\n",
    "        self.sofer = sofer\n",
    "        self.viteza = viteza\n",
    "        \n",
    "    def alege_sofer(self,nume):\n",
    "        self.sofer = nume\n",
    "        \n",
    "    def accelerare(self, rata, durata):\n",
    "        if self.sofer!='None':\n",
    "            self.viteza+= rata*durata\n",
    "            self.viteza = max(0, self.viteza)\n",
    "            \n",
    "    def afiseaza_tot(self):\n",
    "        print(f'Marca: {self.marca}')\n",
    "        print(f'Culoare: {self.culoare}') \n",
    "        print(f'Sofer: {self.sofer}') \n",
    "        print(f'Viteza: {self.viteza} m/s') \n",
    "\n",
    "a1 = Car()\n",
    "a1.afiseaza_tot()\n",
    "print()\n",
    "a1.alege_sofer('Marcel')\n",
    "a1.afiseaza_tot()\n",
    "print()\n",
    "a1.accelerare(10,20)\n",
    "a1.afiseaza_tot()\n",
    "print()\n",
    "a1.accelerare(-10,30)\n",
    "a1.afiseaza_tot()"
   ]
  },
  {
   "cell_type": "code",
   "execution_count": 1,
   "id": "6d929e54-8037-4c62-8f41-3d1f3d27d028",
   "metadata": {},
   "outputs": [],
   "source": [
    "# import mysql.connector\n",
    "\n",
    "# mydb = mysql.connector.connect(\n",
    "#   host=\"localhost\",\n",
    "#   user=\"vladi\",\n",
    "#   password=\"\"\n",
    "# )\n",
    "\n",
    "# mycursor = mydb.cursor()\n",
    "\n",
    "# mycursor.execute(\"CREATE DATABASE mydatabase\")"
   ]
  },
  {
   "cell_type": "code",
   "execution_count": null,
   "id": "fa6521c5-f68d-4ed2-a542-5f3a141828e9",
   "metadata": {},
   "outputs": [],
   "source": [
    "# Ex 6\n",
    "\n",
    "def find_min_max(values):\n",
    "    ''' (list) -> NoneType\n",
    "    Print the minimum and maximum value from values.'''\n",
    "\n",
    "    min = 999\n",
    "\n",
    "    max = -999\n",
    "\n",
    "    for value in values:\n",
    "        if value > max:\n",
    "            max = value\n",
    "        if value < min:\n",
    "            min = value\n",
    "\n",
    "    print('The minimum value is {0}'.format(min))\n",
    "    print('The maximum value is {0}'.format(max))"
   ]
  },
  {
   "cell_type": "code",
   "execution_count": 19,
   "id": "e48fd14d-180e-42bf-8ca4-e8887eb96d32",
   "metadata": {},
   "outputs": [
    {
     "name": "stdout",
     "output_type": "stream",
     "text": [
      "The minimum value is 0\n",
      "The maximum value is 9\n"
     ]
    }
   ],
   "source": [
    "find_min_max([1,4,7,9,0])"
   ]
  },
  {
   "cell_type": "code",
   "execution_count": 28,
   "id": "ace69644-9c45-4941-b5cc-7e4309504ec2",
   "metadata": {},
   "outputs": [],
   "source": [
    "#ex 7\n",
    "def average (values):\n",
    "\n",
    "    ''' (list of number)-> number\n",
    "\n",
    "    Return the average of the numbers in values. Some items in values are\n",
    "    None, and they are not counted toward the average.\n",
    "\n",
    "    »> average([20, 301)\n",
    "\n",
    "    25.0\n",
    "\n",
    "    »> average( [None, 20, 30])\n",
    "\n",
    "    25.0\n",
    "    '''\n",
    "    count = 0 # The number of values seen so far.\n",
    "    total = 0 # The sum of the values seen so far.\n",
    "\n",
    "    for value in values:\n",
    "        if value is not None:\n",
    "            total += value\n",
    "            count+= 1\n",
    "\n",
    "    return total / count"
   ]
  },
  {
   "cell_type": "code",
   "execution_count": 29,
   "id": "dc27ac5f-430f-48cb-a91a-fa95e53d3c37",
   "metadata": {},
   "outputs": [
    {
     "name": "stdout",
     "output_type": "stream",
     "text": [
      "3.0\n",
      "1.5\n"
     ]
    }
   ],
   "source": [
    "print(average([1,2,3,4,5]))\n",
    "print(average([1,2,None]))"
   ]
  },
  {
   "cell_type": "code",
   "execution_count": 6,
   "id": "289ece1e-71bb-4f92-8066-23fcd5c7f305",
   "metadata": {},
   "outputs": [
    {
     "name": "stdin",
     "output_type": "stream",
     "text": [
      " 10\n"
     ]
    },
    {
     "name": "stdout",
     "output_type": "stream",
     "text": [
      "2 la puterea 0 este 1\n",
      "2 la puterea 1 este 2\n",
      "2 la puterea 2 este 4\n",
      "2 la puterea 3 este 8\n",
      "2 la puterea 4 este 16\n",
      "2 la puterea 5 este 32\n",
      "2 la puterea 6 este 64\n",
      "2 la puterea 7 este 128\n",
      "2 la puterea 8 este 256\n",
      "2 la puterea 9 este 512\n",
      "2 la puterea 10 este 1024\n"
     ]
    }
   ],
   "source": [
    "#ex 8\n",
    "def func(n):\n",
    "    return len(n)\n",
    "\n",
    "n = int(input())\n",
    "rg = range(n+1)\n",
    "l = list(map(lambda x: 2**x, rg))\n",
    "for i in range(len(l)):\n",
    "    print(f'2 la puterea {rg[i]} este {l[i]}')"
   ]
  },
  {
   "cell_type": "markdown",
   "id": "d9ff0c5f-81b2-4520-8e1a-024612579535",
   "metadata": {},
   "source": [
    " "
   ]
  },
  {
   "cell_type": "code",
   "execution_count": null,
   "id": "caf0ced3-8702-45e3-8809-514f317dda16",
   "metadata": {},
   "outputs": [],
   "source": []
  }
 ],
 "metadata": {
  "kernelspec": {
   "display_name": "Python 3 (ipykernel)",
   "language": "python",
   "name": "python3"
  },
  "language_info": {
   "codemirror_mode": {
    "name": "ipython",
    "version": 3
   },
   "file_extension": ".py",
   "mimetype": "text/x-python",
   "name": "python",
   "nbconvert_exporter": "python",
   "pygments_lexer": "ipython3",
   "version": "3.8.12"
  }
 },
 "nbformat": 4,
 "nbformat_minor": 5
}
