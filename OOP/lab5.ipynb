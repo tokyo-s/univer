{
 "cells": [
  {
   "cell_type": "code",
   "execution_count": 40,
   "metadata": {},
   "outputs": [],
   "source": [
    "class Checker:\n",
    "    \n",
    "    def __init__(self,expression):\n",
    "        self.__expression = expression\n",
    "        \n",
    "    @property\n",
    "    def get_expression(self):\n",
    "        return self.__expression\n",
    "    \n",
    "    @get_expression.setter\n",
    "    def set_expression(self, expression):\n",
    "        self.__expression = expression\n",
    "        \n",
    "        \n",
    "    def check_expression(self):\n",
    "        stack = []\n",
    "        for ch in self.__expression:\n",
    "            # print(stack)\n",
    "            if ch =='{':\n",
    "                stack.append('}')\n",
    "            elif ch == '[':\n",
    "                stack.append(']')\n",
    "            elif ch == '(':\n",
    "                stack.append(')')\n",
    "            elif ch in ['}',']',')']:\n",
    "                if len(stack)==0 or ch != stack.pop():\n",
    "                    return False\n",
    "        \n",
    "        return len(stack)==0"
   ]
  },
  {
   "cell_type": "code",
   "execution_count": 41,
   "metadata": {},
   "outputs": [
    {
     "data": {
      "text/plain": [
       "True"
      ]
     },
     "execution_count": 41,
     "metadata": {},
     "output_type": "execute_result"
    }
   ],
   "source": [
    "with open('one_expression.txt') as f:\n",
    "    text = f.read()\n",
    "checker = Checker(text)\n",
    "checker.check_expression()"
   ]
  },
  {
   "cell_type": "code",
   "execution_count": 42,
   "metadata": {},
   "outputs": [
    {
     "name": "stdout",
     "output_type": "stream",
     "text": [
      "1. 2x - 3y + 25 / (2+5)*12 - ((29*4-2) + 32) -14\n",
      "\n",
      "True\n",
      "2. 2x - 3y + 25 / (-((29*4-2) + 32) -14 - (2+5)*12\n",
      "\n",
      "False\n",
      "3. ((((((((((((((((((((2x-4y * 98 )))))))))))))))))))))\n",
      "\n",
      "False\n"
     ]
    }
   ],
   "source": [
    "with open('three_expressions.txt') as f:\n",
    "    text = f.readline()\n",
    "    while text :\n",
    "        print(text)\n",
    "        checker = Checker(text)\n",
    "        print(checker.check_expression())\n",
    "        text = f.readline()"
   ]
  }
 ],
 "metadata": {
  "kernelspec": {
   "display_name": "Python 3",
   "language": "python",
   "name": "python3"
  },
  "language_info": {
   "codemirror_mode": {
    "name": "ipython",
    "version": 3
   },
   "file_extension": ".py",
   "mimetype": "text/x-python",
   "name": "python",
   "nbconvert_exporter": "python",
   "pygments_lexer": "ipython3",
   "version": "3.8.3"
  }
 },
 "nbformat": 4,
 "nbformat_minor": 4
}
