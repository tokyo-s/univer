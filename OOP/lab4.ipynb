{
 "cells": [
  {
   "cell_type": "code",
   "execution_count": 34,
   "metadata": {},
   "outputs": [],
   "source": [
    "import re\n",
    "from collections import Counter\n",
    "\n",
    "class Text_manipulations:\n",
    "    def __init__(self,text):\n",
    "        self.text = text\n",
    "        \n",
    "    def sentence_nr(self):\n",
    "        return len(self.text.split('.')[:-1])\n",
    "    \n",
    "    def word_nr(self):\n",
    "        return len(self.text.split(' '))\n",
    "    \n",
    "    def nr_of_letters(self):\n",
    "        cnt = 0\n",
    "        for i in self.text:\n",
    "            cnt+= i.isalpha()\n",
    "        return cnt\n",
    "    \n",
    "    def nr_of_vowels(self):\n",
    "        cnt = 0\n",
    "        for i in self.text:\n",
    "            cnt+= i in ['a','i','o','u','e']\n",
    "        return cnt\n",
    "    \n",
    "    def nr_of_consonants(self):\n",
    "        cnt = 0\n",
    "        for i in self.text:\n",
    "            cnt+= i not in ['a','i','o','u','e'] and i.isalpha()\n",
    "        return cnt\n",
    "    \n",
    "    def show_top_5_words(self):\n",
    "        words = re.findall(r'\\w+', self.text)\n",
    "        words_counter = Counter(words)\n",
    "        sorted_words = dict(sorted(words_counter.items(), key=lambda item: item[1],reverse = True))\n",
    "        for i in range(5):\n",
    "            print(list(sorted_words.keys())[i])\n",
    "    \n",
    "    def show_longest_word(self):\n",
    "        words = re.findall(r'\\w+', self.text)\n",
    "        print(max(words, key = len))"
   ]
  },
  {
   "cell_type": "code",
   "execution_count": 42,
   "metadata": {},
   "outputs": [
    {
     "name": "stdout",
     "output_type": "stream",
     "text": [
      "4\n",
      "91\n",
      "467\n",
      "161\n",
      "306\n",
      "\n",
      "the\n",
      "Lorem\n",
      "Ipsum\n",
      "of\n",
      "and\n",
      "\n",
      "typesetting\n"
     ]
    }
   ],
   "source": [
    "if __name__ == '__main__':\n",
    "    text = Text_manipulations(\"Lorem Ipsum is simply dummy text of the printing and typesetting industry. Lorem Ipsum has been the industry's standard dummy text ever since the 1500s, when an unknown printer took a galley of type and scrambled it to make a type specimen book. It has survived not only five centuries, but also the leap into electronic typesetting, remaining essentially unchanged. It was popularised in the 1960s with the release of Letraset sheets containing Lorem Ipsum passages, and more recently with desktop publishing software like Aldus PageMaker including versions of Lorem Ipsum.\")\n",
    "    print(text.sentence_nr())\n",
    "    print(text.word_nr())\n",
    "    print(text.nr_of_letters())\n",
    "    print(text.nr_of_vowels())\n",
    "    print(text.nr_of_consonants())\n",
    "    print()\n",
    "    text.show_top_5_words()\n",
    "    print()\n",
    "    text.show_longest_word()"
   ]
  },
  {
   "cell_type": "code",
   "execution_count": null,
   "metadata": {},
   "outputs": [],
   "source": []
  },
  {
   "cell_type": "code",
   "execution_count": null,
   "metadata": {},
   "outputs": [],
   "source": []
  }
 ],
 "metadata": {
  "kernelspec": {
   "display_name": "Python 3",
   "language": "python",
   "name": "python3"
  },
  "language_info": {
   "codemirror_mode": {
    "name": "ipython",
    "version": 3
   },
   "file_extension": ".py",
   "mimetype": "text/x-python",
   "name": "python",
   "nbconvert_exporter": "python",
   "pygments_lexer": "ipython3",
   "version": "3.8.3"
  }
 },
 "nbformat": 4,
 "nbformat_minor": 4
}
