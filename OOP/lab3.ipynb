{
 "cells": [
  {
   "cell_type": "code",
   "execution_count": 14,
   "metadata": {},
   "outputs": [
    {
     "name": "stdout",
     "output_type": "stream",
     "text": [
      "24\n",
      "96\n"
     ]
    }
   ],
   "source": [
    "class Box:\n",
    "    def __init__(self, *args):\n",
    "        if len(args) == 0:\n",
    "            self.w = 0\n",
    "            self.h = 0\n",
    "            self.d = 0\n",
    "        elif len(args)==1:\n",
    "            self.w = args[0]\n",
    "            self.h = args[0]\n",
    "            self.d = args[0]\n",
    "        elif len(args) == 3:\n",
    "            self.w = args[0]\n",
    "            self.h = args[1]\n",
    "            self.d = args[2]\n",
    "        else:\n",
    "            raise ValueError('No, u cant do that')\n",
    "        \n",
    "    def __str__(self):\n",
    "        return f'{self.w}, {self.h}, {self.d}'\n",
    "            \n",
    "    def surface_area(self):\n",
    "        return self.w*self.h\n",
    "    \n",
    "    def volume_area(self):\n",
    "        return self.w*self.h*self.d\n",
    "            \n",
    "        \n",
    "b1= Box(4,6,4)\n",
    "b2 = Box(1)\n",
    "b3 = Box()\n",
    "\n",
    "\n",
    "print(b1.surface_area())\n",
    "print(b1.volume_area())"
   ]
  },
  {
   "cell_type": "code",
   "execution_count": 33,
   "metadata": {},
   "outputs": [
    {
     "name": "stdout",
     "output_type": "stream",
     "text": [
      "4, 6, 4\n",
      "1, 1, 1\n",
      "0, 0, 0\n"
     ]
    }
   ],
   "source": [
    "print(b1)\n",
    "print(b2)\n",
    "print(b3)"
   ]
  },
  {
   "cell_type": "code",
   "execution_count": null,
   "metadata": {},
   "outputs": [],
   "source": [
    " add by 3 values to queue and then extract last value from each of them and print in console.\n",
    "    \n",
    "  "
   ]
  },
  {
   "cell_type": "code",
   "execution_count": 11,
   "metadata": {},
   "outputs": [
    {
     "name": "stdout",
     "output_type": "stream",
     "text": [
      "False\n",
      "True\n",
      "3\n",
      "False\n",
      "3\n",
      "True\n"
     ]
    }
   ],
   "source": [
    "class Queue:\n",
    "    \n",
    "    def __init__(self, limit = 0):\n",
    "        self.len = 0\n",
    "        self.limit = limit\n",
    "        self.queue = []\n",
    "\n",
    "    def push(self, value):\n",
    "        if self.isFull():\n",
    "            raise ValueError('No, u cant do that')\n",
    "        self.len+=1\n",
    "        self.queue.append(value)\n",
    "\n",
    "    def pop(self):\n",
    "        if self.isEmpty():\n",
    "            raise ValueError('No, u cant do that, q is MT (empty)')\n",
    "        else:\n",
    "            self.len-=1\n",
    "            return self.queue.pop(0)\n",
    "\n",
    "    def isFull(self):\n",
    "        return self.limit and self.len == self.limit\n",
    "    \n",
    "    def isEmpty(self):\n",
    "        return self.len == 0\n",
    "            \n",
    "q1 = Queue(3)\n",
    "q2 = Queue()\n",
    "\n",
    "q1.push(1)\n",
    "q1.push(2)\n",
    "print(q1.isFull())\n",
    "q1.push(3)\n",
    "\n",
    "print(q1.isFull())\n",
    "\n",
    "q2.push(1)\n",
    "q2.push(2)\n",
    "q2.push(3)\n",
    "\n",
    "\n",
    "q1.pop()\n",
    "q1.pop()\n",
    "print(q1.pop())\n",
    "\n",
    "q2.pop()\n",
    "q2.pop()\n",
    "print(q2.isEmpty())\n",
    "print(q2.pop())\n",
    "\n",
    "print(q2.isEmpty())"
   ]
  },
  {
   "cell_type": "code",
   "execution_count": null,
   "metadata": {},
   "outputs": [],
   "source": [
    "(in case queue has no parameters, it should say it is never full, otherwise it should check the number of elements compared to the queue size). Also use these methods in a program and print the results in console."
   ]
  },
  {
   "cell_type": "code",
   "execution_count": null,
   "metadata": {},
   "outputs": [],
   "source": [
    "class Box:\n",
    "    def __init__(self, *args):\n",
    "        if len(args) == 0:\n",
    "            self.w = 0\n",
    "            self.h = 0\n",
    "            self.d = 0\n",
    "        elif len(args)==1:\n",
    "            self.w = args[0]\n",
    "            self.h = args[0]\n",
    "            self.d = args[0]\n",
    "        elif len(args) == 3:\n",
    "            self.w = args[0]\n",
    "            self.h = args[1]\n",
    "            self.d = args[2]\n",
    "        else:\n",
    "            raise ValueError('No, u cant do that')\n",
    "        \n",
    "    def __str__(self):\n",
    "        return f'{self.w}, {self.h}, {self.d}'\n",
    "    \n",
    "    def surface_area(self):\n",
    "        return self.w*self.h\n",
    "    \n",
    "    def volume_area(self):\n",
    "        self.w*self.h*self.d\n",
    "            \n",
    "        \n",
    "b1= Box(4,6,4)\n",
    "b2 = Box(1)\n",
    "b3 = Box()\n",
    "\n",
    "\n",
    "print(b1.surface_area())\n",
    "print(b1.surface_area())"
   ]
  }
 ],
 "metadata": {
  "kernelspec": {
   "display_name": "Python 3",
   "language": "python",
   "name": "python3"
  },
  "language_info": {
   "codemirror_mode": {
    "name": "ipython",
    "version": 3
   },
   "file_extension": ".py",
   "mimetype": "text/x-python",
   "name": "python",
   "nbconvert_exporter": "python",
   "pygments_lexer": "ipython3",
   "version": "3.8.3"
  }
 },
 "nbformat": 4,
 "nbformat_minor": 4
}
