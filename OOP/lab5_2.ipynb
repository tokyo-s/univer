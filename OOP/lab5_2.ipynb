{
 "cells": [
  {
   "cell_type": "markdown",
   "metadata": {},
   "source": [
    "- _Basic Level_ (mark 5 || 6):\n",
    "    1. Create 10 classes with their names as first 10 aphabetical letters (A, B, C, D, ... , J).\n",
    "\tEach next class inherits from previous letter class (ex: `B inherits from A, C inherits from B ...`).\n",
    "\n",
    "\t2. Each class should have their own String property with corresponding letter as their reference (ex: `class A -> public String a; class B -> String b; ...; class J - public String j;`).\n",
    "\n",
    "\t3. Create by an object of each class type and print it in console in a clever way (so that all objects states are showed)."
   ]
  },
  {
   "cell_type": "code",
   "execution_count": 52,
   "metadata": {},
   "outputs": [],
   "source": [
    "# def init(self, string):\n",
    "#     self.string = string\n",
    "\n",
    "A = type('A',(),{'a':''})   #,\"__init__\": init"
   ]
  },
  {
   "cell_type": "code",
   "execution_count": 53,
   "metadata": {},
   "outputs": [],
   "source": [
    "classes = [A]\n",
    "\n",
    "for i in range(1,10):\n",
    "    classes.append(type(chr(ord('A')+i),(classes[i-1],),{chr((ord('a')+i)):''}))   #chr(ord('A')+i-32)"
   ]
  },
  {
   "cell_type": "code",
   "execution_count": 54,
   "metadata": {},
   "outputs": [
    {
     "name": "stdout",
     "output_type": "stream",
     "text": [
      "A\n",
      "('a', '')\n",
      "Inherits:  (<class 'object'>,)\n",
      "\n",
      "B\n",
      "('b', '')\n",
      "Inherits:  (<class '__main__.A'>,)\n",
      "\n",
      "C\n",
      "('c', '')\n",
      "Inherits:  (<class '__main__.B'>,)\n",
      "\n",
      "D\n",
      "('d', '')\n",
      "Inherits:  (<class '__main__.C'>,)\n",
      "\n",
      "E\n",
      "('e', '')\n",
      "Inherits:  (<class '__main__.D'>,)\n",
      "\n",
      "F\n",
      "('f', '')\n",
      "Inherits:  (<class '__main__.E'>,)\n",
      "\n",
      "G\n",
      "('g', '')\n",
      "Inherits:  (<class '__main__.F'>,)\n",
      "\n",
      "H\n",
      "('h', '')\n",
      "Inherits:  (<class '__main__.G'>,)\n",
      "\n",
      "I\n",
      "('i', '')\n",
      "Inherits:  (<class '__main__.H'>,)\n",
      "\n",
      "J\n",
      "('j', '')\n",
      "Inherits:  (<class '__main__.I'>,)\n",
      "\n"
     ]
    }
   ],
   "source": [
    "for clas in classes:\n",
    "    new_object = clas()\n",
    "    #print(new_object)\n",
    "    print(new_object.__class__.__name__)\n",
    "    print(list(new_object.__class__.__dict__.items())[0])\n",
    "    print('Inherits: ',new_object.__class__.__bases__)\n",
    "    print()"
   ]
  },
  {
   "cell_type": "markdown",
   "metadata": {},
   "source": [
    "- _Medium Level_ (mark 7 || 8):\n",
    "    1. Change all states from previous classes from public access specifiers to protected.\n",
    "\n",
    "\t2. Create class X which has a private String name property that should have also a constructor for that X.\n",
    "\n",
    "\t3. Add a instance variable of X type to A class as a state and modify the constructor of A from `A(new String(\"blabla\"))` to `A(new String(\"blabla\"), new X(\"some name\"))`.\n",
    "\n",
    "\tCheckout for errors if appeared in child classes and try to resolve the issue.\n",
    "\n",
    "\t`hint: use super(\"blabla\", x)`.\n",
    "\n",
    "\t4. Finally print J and see what states does it have."
   ]
  },
  {
   "cell_type": "code",
   "execution_count": 1,
   "metadata": {},
   "outputs": [],
   "source": [
    "class X:\n",
    "    def __init__(self,name):\n",
    "        \n",
    "        self.__name = name\n",
    "        \n",
    "    @property\n",
    "    def get_name(self):\n",
    "        return self.__name\n",
    "    \n",
    "    @get_name.setter\n",
    "    def set_name(self, name):\n",
    "        self.__name = name"
   ]
  },
  {
   "cell_type": "code",
   "execution_count": 12,
   "metadata": {},
   "outputs": [],
   "source": [
    "def init(self, string, x):\n",
    "    self.string = string\n",
    "    self.name = x.get_name\n",
    "    \n",
    "A = type('A',(),{'__a':'',\"__init__\": init})"
   ]
  },
  {
   "cell_type": "code",
   "execution_count": 13,
   "metadata": {},
   "outputs": [],
   "source": [
    "x = X('Vova')\n",
    "a = A('blabla',x)"
   ]
  },
  {
   "cell_type": "code",
   "execution_count": 14,
   "metadata": {},
   "outputs": [
    {
     "data": {
      "text/plain": [
       "'Vova'"
      ]
     },
     "execution_count": 14,
     "metadata": {},
     "output_type": "execute_result"
    }
   ],
   "source": [
    "a.name"
   ]
  },
  {
   "cell_type": "code",
   "execution_count": 5,
   "metadata": {},
   "outputs": [],
   "source": [
    "def init(self, string, x):\n",
    "    super().__init__(string,x)\n",
    "\n",
    "classes = [A]\n",
    "\n",
    "for i in range(1,10):\n",
    "    classes.append(type(chr(ord('A')+i),(classes[i-1],),{'_'+chr((ord('a')+i)):''}))  "
   ]
  },
  {
   "cell_type": "code",
   "execution_count": 10,
   "metadata": {},
   "outputs": [
    {
     "name": "stdout",
     "output_type": "stream",
     "text": [
      "\n",
      "A\n",
      "Inherits:  (<class 'object'>,)\n",
      "Vova\n",
      "blabla\n",
      "\n",
      "\n",
      "B\n",
      "Inherits:  (<class '__main__.A'>,)\n",
      "Vova\n",
      "blabla\n",
      "\n",
      "\n",
      "C\n",
      "Inherits:  (<class '__main__.B'>,)\n",
      "Vova\n",
      "blabla\n",
      "\n",
      "\n",
      "D\n",
      "Inherits:  (<class '__main__.C'>,)\n",
      "Vova\n",
      "blabla\n",
      "\n",
      "\n",
      "E\n",
      "Inherits:  (<class '__main__.D'>,)\n",
      "Vova\n",
      "blabla\n",
      "\n",
      "\n",
      "F\n",
      "Inherits:  (<class '__main__.E'>,)\n",
      "Vova\n",
      "blabla\n",
      "\n",
      "\n",
      "G\n",
      "Inherits:  (<class '__main__.F'>,)\n",
      "Vova\n",
      "blabla\n",
      "\n",
      "\n",
      "H\n",
      "Inherits:  (<class '__main__.G'>,)\n",
      "Vova\n",
      "blabla\n",
      "\n",
      "\n",
      "I\n",
      "Inherits:  (<class '__main__.H'>,)\n",
      "Vova\n",
      "blabla\n",
      "\n",
      "\n",
      "J\n",
      "Inherits:  (<class '__main__.I'>,)\n",
      "Vova\n",
      "blabla\n",
      "\n"
     ]
    }
   ],
   "source": [
    "for clas in classes:\n",
    "    new_object = clas('blabla',x)\n",
    "    \n",
    "    #print(new_object)\n",
    "    print(new_object.__a)\n",
    "    print(new_object.__class__.__name__)\n",
    "    print('Inherits: ',new_object.__class__.__bases__)\n",
    "    print(new_object.name)\n",
    "    print(new_object.string)\n",
    "    print()"
   ]
  },
  {
   "cell_type": "markdown",
   "metadata": {},
   "source": [
    " \n",
    "  - _Advanced Level_ (mark 9 || 10):\n",
    "    1. Add initial value to state X from class A. (ex: `protected X x = new X(\"xxx\")`).\n",
    "\n",
    "\tPrint a object of J and see the result.\n",
    "\n",
    "\t2. Go in class D and create also a state with the same name `x` as in class A and give another initial value.\n",
    "\n",
    "\tPrint the result and checkout if any changes.\n",
    "\n",
    "\t3. Now do the same in class H and add to a state x another initial value.\n",
    "\n",
    "\tChackout again if any changes when printing object of class J.\n",
    "\n",
    "\t4. Make the property `x` from class `H` private and checkout now if any errors appeared and try to solve them.\n",
    "\n",
    "\t`hint: property x is not visible any more in child classes cause of private modifier in most near by hierarchy class containing this state.`"
   ]
  },
  {
   "cell_type": "code",
   "execution_count": 36,
   "metadata": {},
   "outputs": [],
   "source": [
    "class X:\n",
    "    def __init__(self,name):\n",
    "        self.__name = name\n",
    "        \n",
    "    @property\n",
    "    def get_name(self):\n",
    "        return self.__name\n",
    "    \n",
    "    @get_name.setter\n",
    "    def set_name(self, name):\n",
    "        self.__name = name\n",
    "\n",
    "class A:\n",
    "    def __init__(self, x, a = 'a'):\n",
    "        self._a = a\n",
    "        self.name = x.get_name\n",
    "        self._x = X('xxx')\n",
    "        \n",
    "class B(A):\n",
    "    def __init__(self, x, b = 'b'):\n",
    "        super().__init__(x)\n",
    "        self._b = b\n",
    "        \n",
    "class C(B):\n",
    "    def __init__(self, x, c = 'c'):\n",
    "        super().__init__(x)\n",
    "        self._c = c\n",
    "        \n",
    "class D(C):\n",
    "    def __init__(self, x, d = 'd'):\n",
    "        super().__init__(x)\n",
    "        self._d = d\n",
    "        self._x = X('xddd')\n",
    "\n",
    "        \n",
    "class E(D):\n",
    "    def __init__(self, x, e = 'e'):\n",
    "        super().__init__(x)\n",
    "        self._e = e\n",
    "        \n",
    "class F(E):\n",
    "    def __init__(self, x, f = 'f'):\n",
    "        super().__init__(x)\n",
    "        self._f = f\n",
    "        \n",
    "class G(F):\n",
    "    def __init__(self, x, g = 'g'):\n",
    "        super().__init__(x)\n",
    "        self._g = g\n",
    "        \n",
    "class H(G):\n",
    "    def __init__(self, x, h = 'h'):\n",
    "        super().__init__(x)\n",
    "        self._h = h\n",
    "        self.__x = X('xhhhh')\n",
    "\n",
    "        \n",
    "class I(H):\n",
    "    def __init__(self, x, i = 'i'):\n",
    "        super().__init__(x)\n",
    "        self._i = i\n",
    "        \n",
    "class J(I):\n",
    "    def __init__(self, x, j = 'j'):\n",
    "        super().__init__(x)\n",
    "        self._j = j\n",
    "    "
   ]
  },
  {
   "cell_type": "code",
   "execution_count": 37,
   "metadata": {},
   "outputs": [
    {
     "name": "stdout",
     "output_type": "stream",
     "text": [
      "[('_a', 'a'), ('name', 'Vova'), ('_x', <__main__.X object at 0x000001C7E17033A0>), ('_b', 'b'), ('_c', 'c'), ('_d', 'd'), ('_e', 'e'), ('_f', 'f'), ('_g', 'g'), ('_h', 'h'), ('_H__x', <__main__.X object at 0x000001C7E1703220>), ('_i', 'i'), ('_j', 'j')]\n",
      "xddd\n"
     ]
    }
   ],
   "source": [
    "x = X('Vova')\n",
    "j = J(x)\n",
    "print(list(j.__dict__.items()))\n",
    "print(j._x.get_name)"
   ]
  }
 ],
 "metadata": {
  "kernelspec": {
   "display_name": "Python 3 (ipykernel)",
   "language": "python",
   "name": "python3"
  },
  "language_info": {
   "codemirror_mode": {
    "name": "ipython",
    "version": 3
   },
   "file_extension": ".py",
   "mimetype": "text/x-python",
   "name": "python",
   "nbconvert_exporter": "python",
   "pygments_lexer": "ipython3",
   "version": "3.8.12"
  }
 },
 "nbformat": 4,
 "nbformat_minor": 4
}
