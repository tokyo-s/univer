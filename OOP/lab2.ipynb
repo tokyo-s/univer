{
 "cells": [
  {
   "cell_type": "markdown",
   "metadata": {},
   "source": [
    "_Basic Level_ (mark 5 || 6):\n",
    "\n",
    "    2. Update the monitor's properties.\n",
    "    3. Create second monitor and then compare with first one created above."
   ]
  },
  {
   "cell_type": "code",
   "execution_count": 25,
   "metadata": {},
   "outputs": [
    {
     "name": "stdout",
     "output_type": "stream",
     "text": [
      "Monitorul suporta gama de culori - type2. Are o rezolutie de - 2073600 pixeli la diagonala de 20 inch.\n",
      "Monitorul suporta gama de culori - RGB. Are o rezolutie de - 3686400 pixeli la diagonala de 28 inch.\n",
      "\n",
      "Monitorul 2 are rezolutia mai mare!\n",
      "Monitorul 2 are diagonala mai mare!\n",
      "Monitorul 2 are DPI mai mare!\n"
     ]
    }
   ],
   "source": [
    "class Monitor:\n",
    "    def __init__(self, color, dimensions, resolution):\n",
    "        self.color = color\n",
    "        self.dimensions = dimensions\n",
    "        self.resolution = resolution\n",
    "\n",
    "    color_type = {\n",
    "      1: \"RGB\",\n",
    "      2: \"type2\"\n",
    "    }\n",
    "\n",
    "    def __str__(self):\n",
    "        return f\"Monitorul suporta gama de culori - {self.color_type[self.color]}. Are o rezolutie de - {self.resolution} pixeli la diagonala de {self.dimensions} inch.\"\n",
    "    \n",
    "    def compare_dpi (self, monitor2):\n",
    "        print(\"Monitorul 1 are rezolutia mai mare!\" if self.resolution > monitor2.resolution else \"Monitorul 2 are rezolutia mai mare!\")\n",
    "        print(\"Monitorul 1 are diagonala mai mare!\" if self.dimensions > monitor2.dimensions else \"Monitorul 2 are diagonala mai mare!\")\n",
    "        print(\"Monitorul 1 are DPI mai mare!\" if self.resolution/self.dimensions > monitor2.resolution/monitor2.dimensions else \"Monitorul 2 are DPI mai mare!\")\n",
    "    \n",
    "\n",
    "monitor1 = Monitor(2, 22, 1920*1080)\n",
    "monitor2 = Monitor(1, 28, 2560*1440)\n",
    "\n",
    "monitor1.dimensions = 20\n",
    "\n",
    "print(monitor1)\n",
    "print(monitor2)\n",
    "print()\n",
    "monitor1.compare_dpi(monitor2)"
   ]
  },
  {
   "cell_type": "code",
   "execution_count": 16,
   "metadata": {},
   "outputs": [],
   "source": [
    "class Student:\n",
    "    def __init__(self, name, age, mark):\n",
    "        self.name = name\n",
    "        self.age = age\n",
    "        self.mark = mark\n",
    "\n",
    "\n",
    "class University:\n",
    "    def __init__(self, name, foundationYear, students):\n",
    "        self.name = name\n",
    "        self.year = foundationYear\n",
    "        self.students = students\n",
    "\n",
    "student1 = Student('Vladimir','20',10)\n",
    "student2 = Student('Vasile', '21',10)\n",
    "\n",
    "student2.age = 22\n",
    "student1.age = 21\n",
    "\n",
    "univer = University('UTM',1964,[student1,student2])"
   ]
  },
  {
   "cell_type": "code",
   "execution_count": null,
   "metadata": {},
   "outputs": [],
   "source": []
  },
  {
   "cell_type": "code",
   "execution_count": 1,
   "metadata": {},
   "outputs": [
    {
     "name": "stdout",
     "output_type": "stream",
     "text": [
      "10.0\n",
      "9.0\n",
      "6.0\n"
     ]
    }
   ],
   "source": [
    "class Student:\n",
    "    def __init__(self, name, age, mark):\n",
    "        self.__name = name\n",
    "        self.__age = age\n",
    "        self.__mark = mark\n",
    "        \n",
    "    @property\n",
    "    def name(self):\n",
    "        return self.__name\n",
    "    \n",
    "    @name.setter\n",
    "    def name(self, name):\n",
    "        self.__name = name\n",
    "    \n",
    "    @property\n",
    "    def age(self):\n",
    "        return self.__age\n",
    "    \n",
    "    @age.setter\n",
    "    def age(self, age):\n",
    "        self.__age = age\n",
    "    \n",
    "    @property\n",
    "    def mark(self):\n",
    "        return self.__mark\n",
    "    \n",
    "    @mark.setter\n",
    "    def mark(self, mark):\n",
    "        self.__mark = mark\n",
    "    \n",
    "class University:\n",
    "    def __init__(self, name, foundationYear, students):\n",
    "        self.name = name\n",
    "        self.year = foundationYear\n",
    "        self.students = students\n",
    "\n",
    "    def average_mark(self):\n",
    "        ls = [student.mark for student in self.students]\n",
    "        return sum(ls)/len(ls)\n",
    "\n",
    "if __name__ == \"__main__\":\n",
    "    \n",
    "    student1 = Student('Vladimir','20',10)\n",
    "    student2 = Student('Vasile', '21',10)\n",
    "    \n",
    "    student3 = Student('Alex','20',9)\n",
    "    student4 = Student('Cristi', '21',9)\n",
    "    \n",
    "    student5 = Student('Bogdan','20',5)\n",
    "    student6 = Student('Petru', '21',7)\n",
    "\n",
    "    student2.age = 22\n",
    "    student1.age = 21\n",
    "\n",
    "    univer1 = University('UTM',1964,[student1,student2])\n",
    "    univer2 = University('USM',1980,[student3,student4])\n",
    "    univer3 = University('ULIM',1989,[student5,student6])\n",
    "    \n",
    "    print(univer1.average_mark())\n",
    "    print(univer2.average_mark())\n",
    "    print(univer3.average_mark())"
   ]
  },
  {
   "cell_type": "code",
   "execution_count": null,
   "metadata": {},
   "outputs": [],
   "source": []
  }
 ],
 "metadata": {
  "kernelspec": {
   "display_name": "Python 3",
   "language": "python",
   "name": "python3"
  },
  "language_info": {
   "codemirror_mode": {
    "name": "ipython",
    "version": 3
   },
   "file_extension": ".py",
   "mimetype": "text/x-python",
   "name": "python",
   "nbconvert_exporter": "python",
   "pygments_lexer": "ipython3",
   "version": "3.8.3"
  }
 },
 "nbformat": 4,
 "nbformat_minor": 4
}
