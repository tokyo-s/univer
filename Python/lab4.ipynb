{
 "cells": [
  {
   "cell_type": "code",
   "execution_count": 1,
   "metadata": {},
   "outputs": [],
   "source": [
    "def play():\n",
    "    print('1. 1-100')\n",
    "    print('2. 1-1000')\n",
    "    x = int(input('Select interval to play'))\n",
    "    if x == 1:\n",
    "        guess_number(100)\n",
    "    else:\n",
    "        guess_number(1000)"
   ]
  },
  {
   "cell_type": "code",
   "execution_count": 2,
   "metadata": {},
   "outputs": [],
   "source": [
    "def guess_number(limit):\n",
    "    guessed_number = random.randint(1,limit) # both included\n",
    "    tries = 10\n",
    "    print('I think of a number, will you try to guess it?')\n",
    "\n",
    "    guess = -1\n",
    "    count = 0\n",
    "    while guess != guessed_number:\n",
    "\n",
    "        count=count+1\n",
    "        tries-=1\n",
    "        guess = int(input('What is your guess? '))\n",
    "\n",
    "        if guess > guessed_number:\n",
    "            print('Nope, My number is smaller!')\n",
    "        elif guess < guessed_number:\n",
    "            print('Nope, my number is bigger!')\n",
    "        else:\n",
    "            print('Great job, you did it in',count,'moves')\n",
    "            break\n",
    "            \n",
    "        if tries == 0:\n",
    "            print(\"You have no more tries, Try again\")\n",
    "        else:\n",
    "            print(f'You have {tries} tries left')\n",
    "            \n",
    "    again = int(input('If you want to play again, press 1, else, press 0\\n'))\n",
    "    if again == 0:\n",
    "        print('Thanks for the game, had a great time playing with you')"
   ]
  },
  {
   "cell_type": "code",
   "execution_count": null,
   "metadata": {},
   "outputs": [
    {
     "name": "stdout",
     "output_type": "stream",
     "text": [
      "1. 1-100\n",
      "2. 1-1000\n"
     ]
    }
   ],
   "source": [
    "import random\n",
    "\n",
    "while True:  # initially without this while\n",
    "    play()"
   ]
  },
  {
   "cell_type": "code",
   "execution_count": null,
   "metadata": {},
   "outputs": [],
   "source": []
  }
 ],
 "metadata": {
  "kernelspec": {
   "display_name": "Python 3",
   "language": "python",
   "name": "python3"
  },
  "language_info": {
   "codemirror_mode": {
    "name": "ipython",
    "version": 3
   },
   "file_extension": ".py",
   "mimetype": "text/x-python",
   "name": "python",
   "nbconvert_exporter": "python",
   "pygments_lexer": "ipython3",
   "version": "3.8.3"
  }
 },
 "nbformat": 4,
 "nbformat_minor": 4
}
