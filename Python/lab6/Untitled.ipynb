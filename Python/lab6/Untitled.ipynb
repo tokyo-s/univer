{
 "cells": [
  {
   "cell_type": "code",
   "execution_count": 7,
   "id": "3f0a0e1d-4658-4de4-bd5c-e8a499847c4f",
   "metadata": {},
   "outputs": [
    {
     "name": "stdout",
     "output_type": "stream",
     "text": [
      "Numele titularului - Dupont, soldul contului = 1000\n",
      "Numele titularului - Dupont, soldul contului = 1200\n",
      "Numele titularului - Dupont, soldul contului = 1000\n"
     ]
    }
   ],
   "source": [
    "class BankAccount:\n",
    "    \n",
    "    def __init__(self, name = 'Dupont', balance = 1000):\n",
    "        self.name = name\n",
    "        self.balance = balance\n",
    "        \n",
    "    def depozit(self, suma):\n",
    "        self.balance+=suma\n",
    "    \n",
    "    def retragere(self, suma):\n",
    "        self.balance-=suma\n",
    "        \n",
    "    def sold(self):\n",
    "        print(f'Numele titularului - {self.name}, soldul contului = {self.balance}')\n",
    "        \n",
    "cont = BankAccount()\n",
    "cont.sold()\n",
    "cont.depozit(200)\n",
    "cont.sold()\n",
    "cont.retragere(200)\n",
    "cont.sold()"
   ]
  },
  {
   "cell_type": "code",
   "execution_count": 15,
   "id": "e2b03de7-b50e-4e16-901f-eefa668bc889",
   "metadata": {},
   "outputs": [
    {
     "name": "stdout",
     "output_type": "stream",
     "text": [
      "Marca: Ford\n",
      "Culoare: rosu\n",
      "Sofer: persoana\n",
      "Viteza: 0 m/s\n",
      "\n",
      "Marca: Ford\n",
      "Culoare: rosu\n",
      "Sofer: Marcel\n",
      "Viteza: 0 m/s\n",
      "\n",
      "Marca: Ford\n",
      "Culoare: rosu\n",
      "Sofer: Marcel\n",
      "Viteza: 200 m/s\n",
      "\n",
      "Marca: Ford\n",
      "Culoare: rosu\n",
      "Sofer: Marcel\n",
      "Viteza: 0 m/s\n"
     ]
    }
   ],
   "source": [
    "class Car:\n",
    "    \n",
    "    def __init__(self, marca = 'Ford', culoare = 'rosu', sofer = 'persoana', viteza = 0):\n",
    "        self.marca = marca\n",
    "        self.culoare = culoare\n",
    "        self.sofer = sofer\n",
    "        self.viteza = viteza\n",
    "        \n",
    "    def alege_sofer(self,nume):\n",
    "        self.sofer = nume\n",
    "        \n",
    "    def accelerare(self, rata, durata):\n",
    "        if self.sofer!='None':\n",
    "            self.viteza+= rata*durata\n",
    "            self.viteza = max(0, self.viteza)\n",
    "            \n",
    "    def afiseaza_tot(self):\n",
    "        print(f'Marca: {self.marca}')\n",
    "        print(f'Culoare: {self.culoare}') \n",
    "        print(f'Sofer: {self.sofer}') \n",
    "        print(f'Viteza: {self.viteza} m/s') \n",
    "\n",
    "a1 = Car()\n",
    "a1.afiseaza_tot()\n",
    "print()\n",
    "a1.alege_sofer('Marcel')\n",
    "a1.afiseaza_tot()\n",
    "print()\n",
    "a1.accelerare(10,20)\n",
    "a1.afiseaza_tot()\n",
    "print()\n",
    "a1.accelerare(-10,30)\n",
    "a1.afiseaza_tot()"
   ]
  },
  {
   "cell_type": "code",
   "execution_count": 14,
   "id": "f3cdd359-8c24-4255-b2b0-b172b7a706c4",
   "metadata": {},
   "outputs": [],
   "source": [
    "import mysql.connector\n",
    "mydb = mysql.connector.connect(host=\"localhost\",user=\"root\",password=\"\")\n"
   ]
  },
  {
   "cell_type": "code",
   "execution_count": 16,
   "id": "44eaef7c-4718-4366-8182-0f3956100fa5",
   "metadata": {},
   "outputs": [],
   "source": [
    "# mycursor = mydb.cursor()\n",
    "# mycursor.execute(\"DROP TABLE recensamant2\")"
   ]
  },
  {
   "cell_type": "code",
   "execution_count": 17,
   "id": "4b370478-f8c7-4033-aa8c-db398085e093",
   "metadata": {},
   "outputs": [
    {
     "name": "stdout",
     "output_type": "stream",
     "text": [
      "('information_schema',)\n",
      "('mysql',)\n",
      "('performance_schema',)\n",
      "('phpmyadmin',)\n",
      "('recensamant',)\n",
      "('recensamant2',)\n",
      "('test',)\n"
     ]
    }
   ],
   "source": [
    "# a. Creați o nouă bază de date numită recensamant.db\n",
    "mycursor = mydb.cursor()\n",
    "mycursor.execute(\"CREATE DATABASE recensamant2\")\n",
    "#Verficam daca exista baza de date\n",
    "mycursor.execute(\"SHOW DATABASES\")\n",
    "for x in mycursor:print(x)\n"
   ]
  },
  {
   "cell_type": "code",
   "execution_count": 19,
   "id": "eeec036f-ceca-46b7-890b-b95efa5b3104",
   "metadata": {},
   "outputs": [
    {
     "name": "stdout",
     "output_type": "stream",
     "text": [
      "('densitate',)\n"
     ]
    }
   ],
   "source": [
    "# b. Faceți un tabel a bazei de date numit Densitate care va conține numele provinciei sau teritoriului (TEXT), populația (INTEGER) și aria suprafeței (REAL)\n",
    "mydb = mysql.connector.connect(host=\"localhost\",user=\"root\",password=\"\",database=\"recensamant2\")\n",
    "mycursor = mydb.cursor()\n",
    "mycursor.execute(\"CREATE TABLE Densitate (id INT AUTO_INCREMENT PRIMARY KEY, name VARCHAR(30), populatia INT UNSIGNED, suprafata_km2 REAL UNSIGNED)\")\n",
    "mycursor = mydb.cursor()\n",
    "mycursor.execute(\"SHOW TABLES\")\n",
    "for x in mycursor:print(x)\n"
   ]
  },
  {
   "cell_type": "code",
   "execution_count": 20,
   "id": "8b5d72bb-8621-4875-8286-2cc1b7a19953",
   "metadata": {},
   "outputs": [
    {
     "name": "stdout",
     "output_type": "stream",
     "text": [
      "Au fost introduse 13 intrari.\n"
     ]
    }
   ],
   "source": [
    "# c. Adaugam valorile\n",
    "mydb = mysql.connector.connect(host=\"localhost\",user=\"root\",password=\"\",database=\"recensamant2\")\n",
    "mycursor = mydb.cursor()\n",
    "sql = \"INSERT INTO densitate (name, populatia, suprafata_km2) VALUES (%s, %s, %s)\"\n",
    "val = [\n",
    "  ('Ontario', '13448494', '908699.33'),\n",
    "  ('Quebec', '8164361', '1356625.27'),\n",
    "  ('British Columbia', '4648055', '922503.01'),\n",
    "  ('Alberta', '4067175', '640330.46'),\n",
    "  ('Manitoba', '1278365', '552370.99'),\n",
    "  ('Saskatchewan', '1098352', '588243.54'),\n",
    "  ('Nova Scotia', '923598', '52942.27'),\n",
    "  ('New Brunswick', '747101', '71388.81'),\n",
    "  ('Newfoundland and Labrador', '519716', '370514.08'),\n",
    "  ('Prince Edward Island', '142907', '5686.03'),\n",
    "  ('Northwest Territories', '41786', '1143793.86'),\n",
    "  ('Nunavut', '35944', '1877778.53'),\n",
    "  ('Yukon', '35874', '474712.68')\n",
    "]\n",
    "mycursor.executemany(sql, val)\n",
    "mydb.commit()\n",
    "print(f\"Au fost introduse {mycursor.rowcount} intrari.\")\n"
   ]
  },
  {
   "cell_type": "code",
   "execution_count": 21,
   "id": "bbf6b79c-9499-441a-aef4-66864f3df992",
   "metadata": {},
   "outputs": [
    {
     "name": "stdout",
     "output_type": "stream",
     "text": [
      "(1, 'Ontario', 13448494, 908699.33)\n",
      "(2, 'Quebec', 8164361, 1356625.27)\n",
      "(3, 'British Columbia', 4648055, 922503.01)\n",
      "(4, 'Alberta', 4067175, 640330.46)\n",
      "(5, 'Manitoba', 1278365, 552370.99)\n",
      "(6, 'Saskatchewan', 1098352, 588243.54)\n",
      "(7, 'Nova Scotia', 923598, 52942.27)\n",
      "(8, 'New Brunswick', 747101, 71388.81)\n",
      "(9, 'Newfoundland and Labrador', 519716, 370514.08)\n",
      "(10, 'Prince Edward Island', 142907, 5686.03)\n",
      "(11, 'Northwest Territories', 41786, 1143793.86)\n",
      "(12, 'Nunavut', 35944, 1877778.53)\n",
      "(13, 'Yukon', 35874, 474712.68)\n"
     ]
    }
   ],
   "source": [
    "# d. Afisarea conținutul tabelului\n",
    "mydb = mysql.connector.connect(host=\"localhost\",user=\"root\",password=\"\",database=\"recensamant2\")\n",
    "mycursor = mydb.cursor()\n",
    "mycursor.execute(\"Select * FROM densitate\")\n",
    "for x in mycursor: print(x)\n"
   ]
  },
  {
   "cell_type": "code",
   "execution_count": 22,
   "id": "5e327faf-6d12-4506-a293-bbb7012df49e",
   "metadata": {},
   "outputs": [
    {
     "name": "stdout",
     "output_type": "stream",
     "text": [
      "(13448494,)\n",
      "(8164361,)\n",
      "(4648055,)\n",
      "(4067175,)\n",
      "(1278365,)\n",
      "(1098352,)\n",
      "(923598,)\n",
      "(747101,)\n",
      "(519716,)\n",
      "(142907,)\n",
      "(41786,)\n",
      "(35944,)\n",
      "(35874,)\n"
     ]
    }
   ],
   "source": [
    "# e. Afisarea populatiei\n",
    "mycursor.execute(\"Select populatia FROM densitate\")\n",
    "for x in mycursor: print(x)"
   ]
  },
  {
   "cell_type": "code",
   "execution_count": 23,
   "id": "3b1b40ca-9208-4dbd-b4e6-d269ca31c555",
   "metadata": {},
   "outputs": [
    {
     "name": "stdout",
     "output_type": "stream",
     "text": [
      "('Nova Scotia',)\n",
      "('New Brunswick',)\n",
      "('Newfoundland and Labrador',)\n",
      "('Prince Edward Island',)\n",
      "('Northwest Territories',)\n",
      "('Nunavut',)\n",
      "('Yukon',)\n"
     ]
    }
   ],
   "source": [
    "# f. Afișați provinciile cu populații mai mici de un million\n",
    "mycursor.execute(\"Select name FROM densitate WHERE populatia < 1000000\")\n",
    "for x in mycursor: print(x)"
   ]
  },
  {
   "cell_type": "code",
   "execution_count": 24,
   "id": "eb89fa8d-cebd-410f-a450-d145bd7adc5b",
   "metadata": {},
   "outputs": [
    {
     "name": "stdout",
     "output_type": "stream",
     "text": [
      "('Ontario',)\n",
      "('Quebec',)\n",
      "('Nova Scotia',)\n",
      "('New Brunswick',)\n",
      "('Newfoundland and Labrador',)\n",
      "('Prince Edward Island',)\n",
      "('Northwest Territories',)\n",
      "('Nunavut',)\n",
      "('Yukon',)\n"
     ]
    }
   ],
   "source": [
    "# g. Afișați provinciile cu populații mai mici de un million sau mai mult de cinci milioane\n",
    "mycursor.execute(\"Select name FROM densitate WHERE populatia < 1000000 OR populatia > 5000000\")\n",
    "for x in mycursor: print(x)"
   ]
  },
  {
   "cell_type": "code",
   "execution_count": 25,
   "id": "22789afc-638c-42d0-a554-d149c72cf622",
   "metadata": {},
   "outputs": [
    {
     "name": "stdout",
     "output_type": "stream",
     "text": [
      "('British Columbia',)\n",
      "('Alberta',)\n",
      "('Manitoba',)\n",
      "('Saskatchewan',)\n"
     ]
    }
   ],
   "source": [
    "#h. Afișați provinciile care nu au populații mai mici de un milion sau mai mult de cinci milioane\n",
    "#mycursor.execute(\"Select name FROM densitate WHERE populatia > 1000000 AND populatia < 5000000\")\n",
    "mycursor.execute(\"Select name FROM densitate WHERE populatia BETWEEN 1000000 AND 7000000\")\n",
    "for x in mycursor: print(x)"
   ]
  },
  {
   "cell_type": "code",
   "execution_count": 26,
   "id": "0b93c11c-f190-4846-8e3d-4496ffa85081",
   "metadata": {},
   "outputs": [
    {
     "name": "stdout",
     "output_type": "stream",
     "text": [
      "(13448494,)\n",
      "(8164361,)\n",
      "(4648055,)\n",
      "(4067175,)\n",
      "(1278365,)\n",
      "(1098352,)\n",
      "(519716,)\n",
      "(41786,)\n",
      "(35944,)\n",
      "(35874,)\n"
     ]
    }
   ],
   "source": [
    "#i. Afișați populațiile provinciilor care au aria suprafeței mai mare de 200.000 de kilometri pătrați\n",
    "mycursor.execute(\"Select populatia FROM densitate WHERE suprafata_km2 > 200000 \")\n",
    "for x in mycursor: print(x)"
   ]
  },
  {
   "cell_type": "code",
   "execution_count": 27,
   "id": "4fc11225-6c62-4c0a-90ac-6d3107f1b629",
   "metadata": {},
   "outputs": [
    {
     "name": "stdout",
     "output_type": "stream",
     "text": [
      "('Ontario', 14.799718186212376)\n",
      "('Quebec', 6.0181401456571715)\n",
      "('British Columbia', 5.038525565352898)\n",
      "('Alberta', 6.35168128656569)\n",
      "('Manitoba', 2.3143232051342886)\n",
      "('Saskatchewan', 1.867172225979736)\n",
      "('Nova Scotia', 17.445379655991328)\n",
      "('New Brunswick', 10.46523958026475)\n",
      "('Newfoundland and Labrador', 1.4026889342504878)\n",
      "('Prince Edward Island', 25.13300140871575)\n",
      "('Northwest Territories', 0.03653280670697078)\n",
      "('Nunavut', 0.019141767479895513)\n",
      "('Yukon', 0.07556992157866944)\n"
     ]
    }
   ],
   "source": [
    "#j. Afișați provinciile împreună cu densitățile populației (populația împărțită pe arie)\n",
    "mycursor.execute(\"Select name, populatia/suprafata_km2 AS Densitate FROM densitate \")\n",
    "for x in mycursor: print(x)"
   ]
  },
  {
   "cell_type": "code",
   "execution_count": null,
   "id": "22a7ad44-ed97-4ac1-991a-9f5059735cdc",
   "metadata": {},
   "outputs": [],
   "source": []
  },
  {
   "cell_type": "code",
   "execution_count": null,
   "id": "47eaf09d-45d0-4b1e-b33c-e91575390939",
   "metadata": {},
   "outputs": [],
   "source": [
    "#### 4"
   ]
  },
  {
   "cell_type": "code",
   "execution_count": null,
   "id": "16ae3d8b-76fa-4a07-9fe0-172986793cf3",
   "metadata": {},
   "outputs": [],
   "source": [
    "import mysql.connector\n",
    "\n",
    "mydb = mysql.connector.connect(host=\"localhost\",user=\"root\",password=\"\",database=\"recensamant\")\n",
    "mycursor = mydb.cursor()\n",
    "mycursor.execute(\"CREATE TABLE Capitale (id INT AUTO_INCREMENT PRIMARY KEY, name VARCHAR(30), capitala VARCHAR(15), populatia INT UNSIGNED)\")\n",
    "sql = \"INSERT INTO Capitale (name, capitala, populatia) VALUES (%s, %s, %s)\"\n",
    "val = [\n",
    "  ('Ontario', 'Toronto', '13448494'),\n",
    "  ('Quebec', 'Quebec City', '8164361'),\n",
    "  ('British Columbia', 'Victoria', '4648055'),\n",
    "  ('Alberta', 'Edmonton', '4067175'),\n",
    "  ('Manitoba', 'Winnipeg', '1278365'),\n",
    "  ('Saskatchewan', 'Regina', '1098352'),\n",
    "  ('Nova Scotia', 'Halifax', '923598'),\n",
    "  ('New Brunswick', 'Fredericton', '747101'),\n",
    "  ('Newfoundland and Labrador', 'St John\\'s', '519716'),\n",
    "  ('Prince Edward Island', 'Charlottetown', '142907'),\n",
    "  ('Northwest Territories', 'Yellowknife', '41786'),\n",
    "  ('Nunavut', 'Iqaluit', '35944'),\n",
    "  ('Yukon', 'Whitehorse', '35874')\n",
    "]\n",
    "mycursor.executemany(sql, val)\n",
    "mydb.commit()\n",
    "print(f\"Au fost introduse {mycursor.rowcount} intrari.\")"
   ]
  },
  {
   "cell_type": "code",
   "execution_count": null,
   "id": "dc786c8f-cf5d-4187-9864-aee1f82fe687",
   "metadata": {},
   "outputs": [],
   "source": [
    "# a. Afisarea conținutul tabelului\n",
    "mycursor.execute(\"Select * FROM Capitale\")\n",
    "for x in mycursor: print(x)"
   ]
  },
  {
   "cell_type": "code",
   "execution_count": null,
   "id": "c3fdc495-33d4-486b-91e9-7c2a88904d6c",
   "metadata": {},
   "outputs": [],
   "source": [
    "#b. Afișați populațiile provinciilor și capitalelor (într-o listă de tuple de formă [populația provinciei, populația de capital])\n",
    "lista = []\n",
    "mycursor.execute(\"Select densitate.populatia, Capitale.populatia FROM densitate, Capitale WHERE densitate.id = Capitale.id\" )\n",
    "for x in mycursor: lista.append(x)\n",
    "print(lista)"
   ]
  },
  {
   "cell_type": "code",
   "execution_count": null,
   "id": "b6b3f0f7-a7d5-4e52-93c1-09e1f8677f81",
   "metadata": {},
   "outputs": [],
   "source": [
    "#c. Afișați aria suprafeței a provinciilor ale căror capitale au populații mai mari de 100.000\n",
    "mycursor.execute(\"Select densitate.suprafata_km2 FROM densitate, Capitale WHERE densitate.id = Capitale.id AND Capitale.populatia > 100000\" )\n",
    "for x in mycursor: print(x)"
   ]
  },
  {
   "cell_type": "code",
   "execution_count": null,
   "id": "8d4dd233-f840-4f7d-80e5-c4a78c95d2e6",
   "metadata": {},
   "outputs": [],
   "source": [
    "#d. Afișați provinciile cu densități ale terenurilor mai mici de două persoane pe kilometru pătrat și populații de capital mai mult de 500.000\n",
    "mycursor.execute(\"Select densitate.name FROM densitate, Capitale WHERE densitate.id = Capitale.id AND densitate.populatia/densitate.suprafata_km2 < 2 AND Capitale.populatia > 50000\")\n",
    "for x in mycursor: print(x)"
   ]
  },
  {
   "cell_type": "code",
   "execution_count": null,
   "id": "f7d45762-8878-4ee1-a788-a8f50c6d8792",
   "metadata": {},
   "outputs": [],
   "source": [
    "#e. Afișați suprafața totală a Canadei\n",
    "mycursor.execute(\"Select SUM(suprafata_km2) FROM densitate\")\n",
    "for x in mycursor: print(x)"
   ]
  },
  {
   "cell_type": "code",
   "execution_count": null,
   "id": "e5ddaf70-e310-4733-b18a-1c48c72c3892",
   "metadata": {},
   "outputs": [],
   "source": [
    "#f. Afișarea media populației capitalelor \n",
    "mycursor.execute(\"Select AVG(populatia) FROM Capitale\")\n",
    "for x in mycursor: print(x)"
   ]
  },
  {
   "cell_type": "code",
   "execution_count": null,
   "id": "c20de7ec-fbdf-441e-82bf-15df5c3b8338",
   "metadata": {},
   "outputs": [],
   "source": [
    "#g. Afișați cea mai mică populație a capitalei\n",
    "mycursor.execute(\"Select MIN(populatia) FROM Capitale\")\n",
    "for x in mycursor: print(x)"
   ]
  },
  {
   "cell_type": "code",
   "execution_count": null,
   "id": "514cb99c-0755-4e61-b889-5a6ddb65aab0",
   "metadata": {},
   "outputs": [],
   "source": [
    "#h. Afișați populația cea mai mare provincie / teritoriu\n",
    "mycursor.execute(\"Select MAX(populatia) FROM densitate\")\n",
    "for x in mycursor: print(x)"
   ]
  },
  {
   "cell_type": "code",
   "execution_count": 29,
   "id": "69dc5cf4-c6a6-4075-adc1-bbcebcc3804c",
   "metadata": {},
   "outputs": [
    {
     "name": "stdout",
     "output_type": "stream",
     "text": [
      "Au fost introduse 13 intrari.\n",
      "(1, 'Ontario', 'Toronto', 13448494)\n",
      "(2, 'Quebec', 'Quebec City', 8164361)\n",
      "(3, 'British Columbia', 'Victoria', 4648055)\n",
      "(4, 'Alberta', 'Edmonton', 4067175)\n",
      "(5, 'Manitoba', 'Winnipeg', 1278365)\n",
      "(6, 'Saskatchewan', 'Regina', 1098352)\n",
      "(7, 'Nova Scotia', 'Halifax', 923598)\n",
      "(8, 'New Brunswick', 'Fredericton', 747101)\n",
      "(9, 'Newfoundland and Labrador', \"St John's\", 519716)\n",
      "(10, 'Prince Edward Island', 'Charlottetown', 142907)\n",
      "(11, 'Northwest Territories', 'Yellowknife', 41786)\n",
      "(12, 'Nunavut', 'Iqaluit', 35944)\n",
      "(13, 'Yukon', 'Whitehorse', 35874)\n",
      "[(13448494, 13448494), (8164361, 8164361), (4648055, 4648055), (4067175, 4067175), (1278365, 1278365), (1098352, 1098352), (923598, 923598), (747101, 747101), (519716, 519716), (142907, 142907), (41786, 41786), (35944, 35944), (35874, 35874)]\n",
      "(908699.33,)\n",
      "(1356625.27,)\n",
      "(922503.01,)\n",
      "(640330.46,)\n",
      "(552370.99,)\n",
      "(588243.54,)\n",
      "(52942.27,)\n",
      "(71388.81,)\n",
      "(370514.08,)\n",
      "(5686.03,)\n",
      "('Saskatchewan',)\n",
      "('Newfoundland and Labrador',)\n",
      "(17931177.72,)\n",
      "(Decimal('2703979.0769'),)\n",
      "(35874,)\n",
      "(13448494,)\n",
      "('Northwest Territories',)\n",
      "('Nunavut',)\n",
      "('Yukon',)\n",
      "('Northwest Territories',)\n",
      "('Nunavut',)\n",
      "('Yukon',)\n"
     ]
    }
   ],
   "source": [
    "#i. Afișarea provinciilor care au densități în limita a 0.5 persoane pe kilometru pătrat\n",
    "mycursor.execute(\"Select name FROM densitate WHERE populatia/suprafata_km2 < 0.5\")\n",
    "for x in mycursor: print(x)"
   ]
  },
  {
   "cell_type": "code",
   "execution_count": null,
   "id": "1c81bc66-b46d-4882-ae5b-a82de12d6fc4",
   "metadata": {},
   "outputs": [],
   "source": [
    "## 5"
   ]
  },
  {
   "cell_type": "code",
   "execution_count": 35,
   "id": "1c4e3caf-bc53-4489-a64e-fb9b63879b75",
   "metadata": {},
   "outputs": [],
   "source": [
    "import mysql.connector\n",
    "mydb = mysql.connector.connect(host=\"localhost\",user=\"root\",password=\"\",database=\"recensamant\")\n",
    "\n",
    "\n"
   ]
  },
  {
   "cell_type": "code",
   "execution_count": 37,
   "id": "6548e91e-18b8-4833-bf05-107e0853f0ca",
   "metadata": {},
   "outputs": [],
   "source": [
    "# a. Creați o nouă bază de date\n",
    "mycursor = mydb.cursor()\n",
    "mycursor.execute(\"CREATE DATABASE db_ex5\")"
   ]
  },
  {
   "cell_type": "code",
   "execution_count": 38,
   "id": "fffea6f4-a13c-4e8c-b71b-9af717c56dea",
   "metadata": {},
   "outputs": [
    {
     "name": "stdout",
     "output_type": "stream",
     "text": [
      "('db_ex5',)\n",
      "('information_schema',)\n",
      "('mysql',)\n",
      "('performance_schema',)\n",
      "('phpmyadmin',)\n",
      "('recensamant',)\n",
      "('recensamant2',)\n",
      "('test',)\n"
     ]
    }
   ],
   "source": [
    "#Verficam daca exista baza de date\n",
    "\n",
    "\n",
    "mycursor.execute(\"SHOW DATABASES\")\n",
    "for x in mycursor:print(x)"
   ]
  },
  {
   "cell_type": "code",
   "execution_count": 39,
   "id": "e5d13339-31de-4ee5-961a-7377576b0463",
   "metadata": {},
   "outputs": [
    {
     "name": "stdout",
     "output_type": "stream",
     "text": [
      "('capitale',)\n",
      "('densitate',)\n",
      "('numbers',)\n"
     ]
    }
   ],
   "source": [
    "#CREATE TABLE Numbers(Val INTEGER)\n",
    "mycursor.execute(\"CREATE TABLE Numbers(Val INTEGER)\")\n",
    "mycursor = mydb.cursor()\n",
    "mycursor.execute(\"SHOW TABLES\")\n",
    "for x in mycursor:print(x)"
   ]
  },
  {
   "cell_type": "code",
   "execution_count": 40,
   "id": "dc19afc4-579d-47c1-ac14-a114ddb35be8",
   "metadata": {},
   "outputs": [],
   "source": [
    "#INSERT INTO Numbers Values(1)\n",
    "#INSERT INTO Numbers Values(2)\n",
    "mycursor.execute(\"INSERT INTO Numbers Values(1)\")\n",
    "mycursor.execute(\"INSERT INTO Numbers Values(2)\")\n",
    "mydb.commit()"
   ]
  },
  {
   "cell_type": "code",
   "execution_count": 41,
   "id": "a21bb65b-e68f-48b0-9e0a-744502974973",
   "metadata": {},
   "outputs": [
    {
     "name": "stdout",
     "output_type": "stream",
     "text": [
      "(1,)\n",
      "(2,)\n"
     ]
    }
   ],
   "source": [
    "mycursor.execute(\"Select * FROM Numbers\")\n",
    "for x in mycursor: print(x)"
   ]
  },
  {
   "cell_type": "code",
   "execution_count": 42,
   "id": "95c8b748-f2a0-4831-aaf8-5f55298d5b6f",
   "metadata": {},
   "outputs": [],
   "source": [
    "#SELECT * FROM Numbers WHERE 1/0\n",
    "mycursor.execute(\"SELECT * FROM Numbers WHERE 1/0\")\n",
    "for x in mycursor: print(x) #nici un rezultat"
   ]
  },
  {
   "cell_type": "code",
   "execution_count": 43,
   "id": "b8499ba7-9c2b-4300-9893-66d44e9da306",
   "metadata": {},
   "outputs": [],
   "source": [
    "#SELECT * FROM Numbers WHERE 1/0 AND Val > 0\n",
    "mycursor.execute(\"SELECT * FROM Numbers WHERE 1/0 AND Val > 0\")\n",
    "for x in mycursor: print(x) #nici un rezultat"
   ]
  },
  {
   "cell_type": "code",
   "execution_count": 44,
   "id": "08a849a9-eca1-46cb-ad4b-a1db1019471a",
   "metadata": {},
   "outputs": [],
   "source": [
    "#SELECT * FROM Numbers WHERE Val > 0 AND 1/0\n",
    "mycursor.execute(\"SELECT * FROM Numbers WHERE Val > 0 AND 1/0\")\n",
    "for x in mycursor: print(x) #nici un rezultat\n"
   ]
  },
  {
   "cell_type": "code",
   "execution_count": null,
   "id": "95d2c48d-d77e-4979-a778-f4faa773bf2e",
   "metadata": {},
   "outputs": [],
   "source": []
  },
  {
   "cell_type": "code",
   "execution_count": null,
   "id": "fa6521c5-f68d-4ed2-a542-5f3a141828e9",
   "metadata": {},
   "outputs": [],
   "source": [
    "# Ex 6\n",
    "\n",
    "def find_min_max(values):\n",
    "    ''' (list) -> NoneType\n",
    "    Print the minimum and maximum value from values.'''\n",
    "\n",
    "    min = 999\n",
    "\n",
    "    max = -999\n",
    "\n",
    "    for value in values:\n",
    "        if value > max:\n",
    "            max = value\n",
    "        if value < min:\n",
    "            min = value\n",
    "\n",
    "    print('The minimum value is {0}'.format(min))\n",
    "    print('The maximum value is {0}'.format(max))"
   ]
  },
  {
   "cell_type": "code",
   "execution_count": 19,
   "id": "e48fd14d-180e-42bf-8ca4-e8887eb96d32",
   "metadata": {},
   "outputs": [
    {
     "name": "stdout",
     "output_type": "stream",
     "text": [
      "The minimum value is 0\n",
      "The maximum value is 9\n"
     ]
    }
   ],
   "source": [
    "find_min_max([1,4,7,9,0])"
   ]
  },
  {
   "cell_type": "code",
   "execution_count": 28,
   "id": "ace69644-9c45-4941-b5cc-7e4309504ec2",
   "metadata": {},
   "outputs": [],
   "source": [
    "#ex 7\n",
    "def average (values):\n",
    "\n",
    "    ''' (list of number)-> number\n",
    "\n",
    "    Return the average of the numbers in values. Some items in values are\n",
    "    None, and they are not counted toward the average.\n",
    "\n",
    "    »> average([20, 301)\n",
    "\n",
    "    25.0\n",
    "\n",
    "    »> average( [None, 20, 30])\n",
    "\n",
    "    25.0\n",
    "    '''\n",
    "    count = 0 # The number of values seen so far.\n",
    "    total = 0 # The sum of the values seen so far.\n",
    "\n",
    "    for value in values:\n",
    "        if value is not None:\n",
    "            total += value\n",
    "            count+= 1\n",
    "\n",
    "    return total / count"
   ]
  },
  {
   "cell_type": "code",
   "execution_count": 29,
   "id": "dc27ac5f-430f-48cb-a91a-fa95e53d3c37",
   "metadata": {},
   "outputs": [
    {
     "name": "stdout",
     "output_type": "stream",
     "text": [
      "3.0\n",
      "1.5\n"
     ]
    }
   ],
   "source": [
    "print(average([1,2,3,4,5]))\n",
    "print(average([1,2,None]))"
   ]
  },
  {
   "cell_type": "code",
   "execution_count": 6,
   "id": "289ece1e-71bb-4f92-8066-23fcd5c7f305",
   "metadata": {},
   "outputs": [
    {
     "name": "stdin",
     "output_type": "stream",
     "text": [
      " 10\n"
     ]
    },
    {
     "name": "stdout",
     "output_type": "stream",
     "text": [
      "2 la puterea 0 este 1\n",
      "2 la puterea 1 este 2\n",
      "2 la puterea 2 este 4\n",
      "2 la puterea 3 este 8\n",
      "2 la puterea 4 este 16\n",
      "2 la puterea 5 este 32\n",
      "2 la puterea 6 este 64\n",
      "2 la puterea 7 este 128\n",
      "2 la puterea 8 este 256\n",
      "2 la puterea 9 este 512\n",
      "2 la puterea 10 este 1024\n"
     ]
    }
   ],
   "source": [
    "#ex 8\n",
    "def func(n):\n",
    "    return len(n)\n",
    "\n",
    "n = int(input())\n",
    "rg = range(n+1)\n",
    "l = list(map(lambda x: 2**x, rg))\n",
    "for i in range(len(l)):\n",
    "    print(f'2 la puterea {rg[i]} este {l[i]}')"
   ]
  },
  {
   "cell_type": "markdown",
   "id": "d9ff0c5f-81b2-4520-8e1a-024612579535",
   "metadata": {},
   "source": [
    " "
   ]
  },
  {
   "cell_type": "code",
   "execution_count": null,
   "id": "caf0ced3-8702-45e3-8809-514f317dda16",
   "metadata": {},
   "outputs": [],
   "source": []
  }
 ],
 "metadata": {
  "kernelspec": {
   "display_name": "Python 3 (ipykernel)",
   "language": "python",
   "name": "python3"
  },
  "language_info": {
   "codemirror_mode": {
    "name": "ipython",
    "version": 3
   },
   "file_extension": ".py",
   "mimetype": "text/x-python",
   "name": "python",
   "nbconvert_exporter": "python",
   "pygments_lexer": "ipython3",
   "version": "3.8.12"
  }
 },
 "nbformat": 4,
 "nbformat_minor": 5
}
