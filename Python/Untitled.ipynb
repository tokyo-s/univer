{
 "cells": [
  {
   "cell_type": "code",
   "execution_count": 9,
   "metadata": {},
   "outputs": [],
   "source": [
    "def mile_kilometri(mile):\n",
    "    print(mile*1.60934)"
   ]
  },
  {
   "cell_type": "code",
   "execution_count": 1,
   "metadata": {},
   "outputs": [],
   "source": [
    "def seconde_totale(ore : int = 1, minute : int = 0, secunde : int = 0) -> int: \n",
    "    print(ore*3600+minute*60+secunde)"
   ]
  },
  {
   "cell_type": "code",
   "execution_count": 2,
   "metadata": {},
   "outputs": [
    {
     "name": "stdout",
     "output_type": "stream",
     "text": [
      "3661\n"
     ]
    }
   ],
   "source": [
    "seconde_totale(1,1,1)"
   ]
  },
  {
   "cell_type": "code",
   "execution_count": 14,
   "metadata": {},
   "outputs": [],
   "source": [
    "def suprafata_dreptunghi(lăţimea, înălţimea):\n",
    "    print((lăţimea+înălţimea)*2,lăţimea*înălţimea)"
   ]
  },
  {
   "cell_type": "code",
   "execution_count": 3,
   "metadata": {},
   "outputs": [],
   "source": [
    "from math import pi\n",
    "def circumferinta_cerc(raza):\n",
    "    print(2*pi*raza, pi*raza**2)"
   ]
  },
  {
   "cell_type": "code",
   "execution_count": 18,
   "metadata": {},
   "outputs": [],
   "source": [
    "####################\n",
    "def depozit_valoare(valoare_curenta, rata_anuala, ani_depozit):\n",
    "    while ani_depozit > 0:\n",
    "        valoare_curenta += valoare_curenta * (rata_anuala / 100)\n",
    "        ani_depozit -= 1\n",
    "    print(valoare_curenta)\n"
   ]
  },
  {
   "cell_type": "code",
   "execution_count": 1,
   "metadata": {},
   "outputs": [],
   "source": [
    "from datetime import date\n",
    "\n",
    "def virsta_persoana(dob):\n",
    "    print((date.today() - dob).days)"
   ]
  },
  {
   "cell_type": "code",
   "execution_count": 4,
   "metadata": {},
   "outputs": [
    {
     "name": "stdout",
     "output_type": "stream",
     "text": [
      "7372\n"
     ]
    }
   ],
   "source": [
    "virsta_persoana(date(2001,7,5))"
   ]
  },
  {
   "cell_type": "code",
   "execution_count": 1,
   "metadata": {},
   "outputs": [],
   "source": [
    "def numar_par (number):\n",
    "    return number % 2 == 0"
   ]
  },
  {
   "cell_type": "code",
   "execution_count": 2,
   "metadata": {},
   "outputs": [
    {
     "data": {
      "text/plain": [
       "False"
      ]
     },
     "execution_count": 2,
     "metadata": {},
     "output_type": "execute_result"
    }
   ],
   "source": [
    "numar_par(5)"
   ]
  },
  {
   "cell_type": "code",
   "execution_count": 4,
   "metadata": {},
   "outputs": [],
   "source": [
    "def gaseste_nume (nume):\n",
    "    print(nume in [\"Ion\",\"Elena\",\"Maria\"])"
   ]
  },
  {
   "cell_type": "code",
   "execution_count": 7,
   "metadata": {},
   "outputs": [
    {
     "name": "stdout",
     "output_type": "stream",
     "text": [
      "True\n"
     ]
    }
   ],
   "source": [
    "gaseste_nume('Ion')"
   ]
  },
  {
   "cell_type": "code",
   "execution_count": 8,
   "metadata": {},
   "outputs": [],
   "source": [
    "def an_bisect (anul):\n",
    "    print((anul % 400 == 0) or (anul % 100 != 0) and (anul % 4 == 0))"
   ]
  },
  {
   "cell_type": "code",
   "execution_count": 12,
   "metadata": {},
   "outputs": [
    {
     "name": "stdout",
     "output_type": "stream",
     "text": [
      "True\n"
     ]
    }
   ],
   "source": [
    "an_bisect(2004)"
   ]
  },
  {
   "cell_type": "code",
   "execution_count": 67,
   "metadata": {},
   "outputs": [],
   "source": [
    "def intersectare_interval (a,b,c,d):\n",
    "    print((min(b, d) - max(a, c))>=0)"
   ]
  },
  {
   "cell_type": "code",
   "execution_count": 68,
   "metadata": {},
   "outputs": [
    {
     "name": "stdout",
     "output_type": "stream",
     "text": [
      "False\n"
     ]
    }
   ],
   "source": [
    "intersectare_interval (1,6,-1,0)"
   ]
  },
  {
   "cell_type": "code",
   "execution_count": 55,
   "metadata": {},
   "outputs": [],
   "source": [
    "def numele_si_virsta (numele,varsta):\n",
    "    print(\"Eroare: Varsta invalida\" if varsta < 0 else f\"{numele} are {varsta} de ani.\")"
   ]
  },
  {
   "cell_type": "code",
   "execution_count": 56,
   "metadata": {},
   "outputs": [
    {
     "name": "stdout",
     "output_type": "stream",
     "text": [
      "fvdvd are 45 de ani.\n"
     ]
    }
   ],
   "source": [
    "numele_si_virsta('fvdvd',45)"
   ]
  },
  {
   "cell_type": "code",
   "execution_count": 63,
   "metadata": {},
   "outputs": [],
   "source": [
    "def afiseaza_numerele (numar):\n",
    "    print(\"Eroare: Numarul introdus nu este un numar de doua cifre.\" if numar >= 100 or numar < 0 else f\"Numarul consta din {int(numar/10)} zeci si {numar%10} unitati.\")"
   ]
  },
  {
   "cell_type": "code",
   "execution_count": 64,
   "metadata": {},
   "outputs": [
    {
     "name": "stdout",
     "output_type": "stream",
     "text": [
      "Eroare: Numarul introdus nu este un numar de doua cifre.\n"
     ]
    }
   ],
   "source": [
    "afiseaza_numerele(444)"
   ]
  },
  {
   "cell_type": "code",
   "execution_count": 79,
   "metadata": {},
   "outputs": [],
   "source": [
    "def cauta_nume (prenume):\n",
    "    d = {\n",
    "        \"Vasile\" : \"Moraru\",\n",
    "        \"Mihail\" : \"Perebinos\",\n",
    "        \"Ion\" : \"Sirghi\",\n",
    "        \"Stefan\" : \"Buzurniuc\"\n",
    "    }\n",
    "    print(prenume,d.get(prenume, 'Eroare: Nu este profesor.'))\n"
   ]
  },
  {
   "cell_type": "code",
   "execution_count": 80,
   "metadata": {},
   "outputs": [
    {
     "name": "stdout",
     "output_type": "stream",
     "text": [
      "Vasile Moraru\n"
     ]
    }
   ],
   "source": [
    "cauta_nume(\"Vasile\")"
   ]
  },
  {
   "cell_type": "code",
   "execution_count": 77,
   "metadata": {},
   "outputs": [],
   "source": [
    "def pig_latin(cuvant):\n",
    "    consonants = 'bcdfghjklmnpqrstvwxyz'\n",
    "    if cuvant[0].lower() in consonants:\n",
    "        print(cuvant[1:] + cuvant[0] + 'ay')\n",
    "    else:\n",
    "        print(cuvant + 'way')"
   ]
  },
  {
   "cell_type": "code",
   "execution_count": 78,
   "metadata": {},
   "outputs": [
    {
     "name": "stdout",
     "output_type": "stream",
     "text": [
      "igpay\n"
     ]
    }
   ],
   "source": [
    "pig_latin('pig')"
   ]
  },
  {
   "cell_type": "code",
   "execution_count": null,
   "metadata": {},
   "outputs": [],
   "source": []
  }
 ],
 "metadata": {
  "kernelspec": {
   "display_name": "Python 3",
   "language": "python",
   "name": "python3"
  },
  "language_info": {
   "codemirror_mode": {
    "name": "ipython",
    "version": 3
   },
   "file_extension": ".py",
   "mimetype": "text/x-python",
   "name": "python",
   "nbconvert_exporter": "python",
   "pygments_lexer": "ipython3",
   "version": "3.8.3"
  }
 },
 "nbformat": 4,
 "nbformat_minor": 4
}
