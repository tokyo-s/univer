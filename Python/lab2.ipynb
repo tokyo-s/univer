{
 "cells": [
  {
   "cell_type": "code",
   "execution_count": 2,
   "metadata": {},
   "outputs": [
    {
     "name": "stdin",
     "output_type": "stream",
     "text": [
      "n:  10\n"
     ]
    },
    {
     "name": "stdout",
     "output_type": "stream",
     "text": [
      "25\n"
     ]
    }
   ],
   "source": [
    "print(sum([i for i in range(int(input())) if i%2]))"
   ]
  },
  {
   "cell_type": "code",
   "execution_count": 26,
   "metadata": {},
   "outputs": [
    {
     "name": "stdin",
     "output_type": "stream",
     "text": [
      " 9\n"
     ]
    },
    {
     "name": "stdout",
     "output_type": "stream",
     "text": [
      "191\t313\t331\t911\t"
     ]
    }
   ],
   "source": [
    "import functools\n",
    "import operator\n",
    "\n",
    "def produsul_cifrelor(numar):\n",
    "    return functools.reduce(operator.mul,list(map(int, str(numar))))\n",
    "\n",
    "def numar_prim(numar):\n",
    "    if numar <= 1: return False\n",
    "    for i in range(2, numar//2+1):\n",
    "        if numar % i == 0:\n",
    "            return False\n",
    "    return True\n",
    "\n",
    "p = int(input())\n",
    "for i in range(100,1000):\n",
    "    if numar_prim(i) and produsul_cifrelor(i) == p:\n",
    "        print(i)"
   ]
  },
  {
   "cell_type": "code",
   "execution_count": 34,
   "metadata": {},
   "outputs": [
    {
     "name": "stdin",
     "output_type": "stream",
     "text": [
      "a:  10\n",
      "b:  25\n"
     ]
    },
    {
     "name": "stdout",
     "output_type": "stream",
     "text": [
      "(10,17)\n",
      "(14,15)\n",
      "(14,23)\n",
      "(15,23)\n",
      "(16,25)\n"
     ]
    }
   ],
   "source": [
    "def suma_divizori(x):\n",
    "    sum = 0\n",
    "    for i in range(1, x + 1):\n",
    "        if x % i == 0: sum += i\n",
    "    return sum\n",
    "\n",
    "a = int(input(\"a = \"))\n",
    "b = int(input(\"b =  \"))\n",
    "for i in range(a, b):\n",
    "    for j in range(i, b + 1):\n",
    "        if suma_divizori(i) == suma_divizori(j) and i != j:\n",
    "            print(f'({i},{j})')"
   ]
  },
  {
   "cell_type": "code",
   "execution_count": 44,
   "metadata": {},
   "outputs": [
    {
     "name": "stdin",
     "output_type": "stream",
     "text": [
      "n =  20\n",
      "d =  5\n"
     ]
    },
    {
     "name": "stdout",
     "output_type": "stream",
     "text": [
      "(5,5),  (5,10),  (5,15),  (5,20),  (10,15),  (15,20),  "
     ]
    }
   ],
   "source": [
    "import math\n",
    "\n",
    "n = int(input(\"n = \"))\n",
    "d = int(input(\"d = \"))\n",
    "\n",
    "for i in range(d, n+1):\n",
    "    for j in range(i, n + 1):\n",
    "        if d == math.gcd(i, j):\n",
    "            print(f'({i},{j}), ', end=' ')"
   ]
  },
  {
   "cell_type": "code",
   "execution_count": 45,
   "metadata": {},
   "outputs": [
    {
     "name": "stdout",
     "output_type": "stream",
     "text": [
      "189\n",
      "279\n",
      "288\n",
      "369\n",
      "378\n",
      "459\n",
      "468\n",
      "477\n",
      "558\n",
      "567\n",
      "666\n"
     ]
    }
   ],
   "source": [
    "def suma_cifrelor(numar):\n",
    "    return sum(list(map(int, str(numar))))\n",
    "\n",
    "def cifre_crescatoare(numar):\n",
    "    return numar[0] <= numar[1] and numar[1] <= numar[2]\n",
    "\n",
    "for numar in range(100,1000):\n",
    "    if suma_cifrelor(numar) == 18 and cifre_crescatoare(str(numar)):\n",
    "        print(numar)"
   ]
  },
  {
   "cell_type": "code",
   "execution_count": 43,
   "metadata": {},
   "outputs": [
    {
     "name": "stdin",
     "output_type": "stream",
     "text": [
      "x =  1620\n"
     ]
    },
    {
     "name": "stdout",
     "output_type": "stream",
     "text": [
      "Factorul prim este 3\n"
     ]
    }
   ],
   "source": [
    "x = int(input(\"x = \"))\n",
    "numar = 2\n",
    "d = {}\n",
    "while x > 1:\n",
    "    putere = 0\n",
    "    while x % numar == 0:\n",
    "        x //= numar\n",
    "        putere += 1\n",
    "    if putere > 0: \n",
    "        d[numar] = putere\n",
    "    numar += 1\n",
    "\n",
    "print(f'Factorul prim este {max(d, key=d.get)}')"
   ]
  },
  {
   "cell_type": "code",
   "execution_count": 48,
   "metadata": {},
   "outputs": [
    {
     "name": "stdout",
     "output_type": "stream",
     "text": [
      "11\n",
      "12\n",
      "13\n",
      "21\n",
      "22\n",
      "31\n"
     ]
    }
   ],
   "source": [
    "def rasturnat(number):\n",
    "    return int(str(number)[::-1])\n",
    "\n",
    "for numar in range(10, 100):\n",
    "    if numar % 10 and rasturnat(numar ** 2) == rasturnat(numar) ** 2:\n",
    "        print(numar)"
   ]
  },
  {
   "cell_type": "code",
   "execution_count": 53,
   "metadata": {},
   "outputs": [
    {
     "name": "stdin",
     "output_type": "stream",
     "text": [
      "n =  20\n"
     ]
    },
    {
     "name": "stdout",
     "output_type": "stream",
     "text": [
      "12\n"
     ]
    }
   ],
   "source": [
    "def nr_de_divizori(numar):\n",
    "    count = 0\n",
    "    for divizor in range(2, numar//2 + 1):\n",
    "        count += numar % divizor == 0 \n",
    "    return count\n",
    "\n",
    "n = int(input(\"n = \"))\n",
    "ls = []\n",
    "for i in range(n+1): \n",
    "    ls.append(nr_de_divizori(i))\n",
    "print(ls.index(max(ls)))"
   ]
  },
  {
   "cell_type": "code",
   "execution_count": 46,
   "metadata": {},
   "outputs": [
    {
     "name": "stdin",
     "output_type": "stream",
     "text": [
      "k =  4\n"
     ]
    },
    {
     "name": "stdout",
     "output_type": "stream",
     "text": [
      "6\n"
     ]
    }
   ],
   "source": [
    "def nr_de_divizori(numar):\n",
    "    count = 0\n",
    "    for divizor in range(1, numar+1):\n",
    "        count += numar % divizor == 0 \n",
    "    return count\n",
    "\n",
    "k = int(input('k = '))\n",
    "nr = 1\n",
    "while nr_de_divizori(nr) != k: nr += 1\n",
    "print(nr)"
   ]
  },
  {
   "cell_type": "code",
   "execution_count": 47,
   "metadata": {},
   "outputs": [
    {
     "name": "stdout",
     "output_type": "stream",
     "text": [
      "101 107 113 131 149 151 157 167 179 181 191 199 311 313 337 347 353 359 373 383 389 701 709 727 733 739 743 751 757 761 769 787 797 907 919 929 937 941 953 967 971 983 991 "
     ]
    }
   ],
   "source": [
    "def numar_prim(numar):\n",
    "    if numar <= 1: return False\n",
    "    for i in range(2, numar//2+1):\n",
    "        if numar % i == 0:\n",
    "            return False\n",
    "    return True\n",
    "\n",
    "def rasturnat(number):\n",
    "    return int(str(number)[::-1])\n",
    "\n",
    "for numar in range(100, 1000):\n",
    "    if numar_prim(numar) and numar_prim(rasturnat(numar)):\n",
    "        print(numar, end = ' ')"
   ]
  },
  {
   "cell_type": "code",
   "execution_count": null,
   "metadata": {},
   "outputs": [],
   "source": []
  },
  {
   "cell_type": "code",
   "execution_count": null,
   "metadata": {},
   "outputs": [],
   "source": []
  },
  {
   "cell_type": "code",
   "execution_count": 8,
   "metadata": {},
   "outputs": [
    {
     "name": "stdin",
     "output_type": "stream",
     "text": [
      "n =  28\n"
     ]
    },
    {
     "name": "stdout",
     "output_type": "stream",
     "text": [
      "Numarul 28 este perfect\n"
     ]
    }
   ],
   "source": [
    "n = int(input('n = '))\n",
    "\n",
    "if sum(num for num in range(1,n) if n%num == 0) == n:\n",
    "    print(f'Numarul {n} este perfect')\n",
    "else: \n",
    "    print(f'Numarul {n} nu este perfect')"
   ]
  },
  {
   "cell_type": "code",
   "execution_count": 12,
   "metadata": {},
   "outputs": [
    {
     "name": "stdin",
     "output_type": "stream",
     "text": [
      "a =  10\n",
      "b =  40\n"
     ]
    },
    {
     "name": "stdout",
     "output_type": "stream",
     "text": [
      "[(11, 11), (12, 21), (13, 31), (22, 22), (23, 32), (33, 33)]\n"
     ]
    }
   ],
   "source": [
    "def rasturnat(number):\n",
    "    return int(str(number)[::-1])\n",
    "\n",
    "a = int(input(\"a = \"))\n",
    "b = int(input(\"b = \"))\n",
    "\n",
    "interval, lista = [i for i in range(a, b + 1)], []\n",
    "i = a\n",
    "while i <= b:\n",
    "    x = rasturnat(i)\n",
    "    if x in interval and (x,i) not in lista:\n",
    "        lista.append((i, x))\n",
    "    i += 1\n",
    "print(lista)"
   ]
  },
  {
   "cell_type": "code",
   "execution_count": 14,
   "metadata": {},
   "outputs": [
    {
     "name": "stdin",
     "output_type": "stream",
     "text": [
      "n =  25\n"
     ]
    },
    {
     "name": "stdout",
     "output_type": "stream",
     "text": [
      "2\n",
      "3\n",
      "5\n",
      "7\n",
      "11\n",
      "12\n",
      "14\n",
      "16\n",
      "20\n",
      "21\n",
      "23\n",
      "25\n"
     ]
    }
   ],
   "source": [
    "def numar_prim(numar):\n",
    "    if numar <= 1: return False\n",
    "    for i in range(2, numar//2+1):\n",
    "        if numar % i == 0:\n",
    "            return False\n",
    "    return True\n",
    "\n",
    "\n",
    "n = int(input(\"n = \"))\n",
    "for numar in range(2, n + 1):\n",
    "    if numar_prim(sum(list(map(int, str(numar))))):\n",
    "        print(numar)"
   ]
  },
  {
   "cell_type": "code",
   "execution_count": 25,
   "metadata": {},
   "outputs": [
    {
     "name": "stdin",
     "output_type": "stream",
     "text": [
      "n =  20\n"
     ]
    },
    {
     "name": "stdout",
     "output_type": "stream",
     "text": [
      "[1, 2, 4, 5, 10, 20]\n",
      "42\n",
      "6\n"
     ]
    }
   ],
   "source": [
    "n = int(input(\"n = \"))\n",
    "assert n <=1000 and n >=1\n",
    "        \n",
    "nr_elemente = 0\n",
    "suma = 0\n",
    "\n",
    "ls = [i for i in range(1, n+1) if n%i==0]\n",
    "\n",
    "print(ls)\n",
    "print(sum(ls))\n",
    "print(len(ls))"
   ]
  },
  {
   "cell_type": "code",
   "execution_count": 27,
   "metadata": {},
   "outputs": [
    {
     "name": "stdin",
     "output_type": "stream",
     "text": [
      "n =  10\n",
      "m =  4\n"
     ]
    },
    {
     "name": "stdout",
     "output_type": "stream",
     "text": [
      "1\n",
      "2\n",
      "3\n",
      "4\n",
      "10\n",
      "11\n",
      "12\n",
      "13\n",
      "20\n",
      "21\n"
     ]
    }
   ],
   "source": [
    "n = int(input('n = '))\n",
    "m = int(input('m = '))\n",
    "\n",
    "numar = 1\n",
    "while n:\n",
    "    if sum(list(map(int, str(numar)))) <= m:\n",
    "        print(numar)\n",
    "        n-=1\n",
    "    numar += 1"
   ]
  },
  {
   "cell_type": "code",
   "execution_count": 28,
   "metadata": {},
   "outputs": [
    {
     "name": "stdin",
     "output_type": "stream",
     "text": [
      "n =  25\n"
     ]
    },
    {
     "name": "stdout",
     "output_type": "stream",
     "text": [
      "1\n",
      "2\n",
      "3\n",
      "4\n",
      "5\n",
      "6\n",
      "7\n",
      "8\n",
      "9\n",
      "10\n",
      "12\n",
      "18\n",
      "20\n",
      "21\n",
      "24\n"
     ]
    }
   ],
   "source": [
    "n = int(input('n = '))\n",
    "for numar in range(1, n+1):\n",
    "    if numar % sum(list(map(int, str(numar)))) == 0: \n",
    "        print(numar)"
   ]
  },
  {
   "cell_type": "code",
   "execution_count": 49,
   "metadata": {},
   "outputs": [
    {
     "name": "stdin",
     "output_type": "stream",
     "text": [
      "n :  3268\n"
     ]
    },
    {
     "name": "stdout",
     "output_type": "stream",
     "text": [
      "3268 | 2\n",
      "1634 | 2\n",
      " 817 | 19\n",
      "  43 | 43\n",
      "   1 |"
     ]
    }
   ],
   "source": [
    "n = int(input('n : '))\n",
    "d = 1\n",
    "while n > 1:\n",
    "    d += 1\n",
    "    while n % d == 0:\n",
    "        print('%4d' % n, end=\" | \")\n",
    "        n = n /d\n",
    "        print(d)\n",
    "print('%4d' % n, end=\" |\")"
   ]
  },
  {
   "cell_type": "code",
   "execution_count": 38,
   "metadata": {},
   "outputs": [
    {
     "name": "stdin",
     "output_type": "stream",
     "text": [
      "Introduceti n :  15\n"
     ]
    },
    {
     "name": "stdout",
     "output_type": "stream",
     "text": [
      "1\n",
      "3\n",
      "5\n",
      "7\n",
      "9\n",
      "10\n",
      "12\n",
      "14\n"
     ]
    }
   ],
   "source": [
    "n = int(input(\"Introduceti n : \"))\n",
    "\n",
    "for numar in range(1, n+1):\n",
    "    if sum(list(map(int, str(numar)))) % 2:\n",
    "        print(numar)"
   ]
  },
  {
   "cell_type": "code",
   "execution_count": 39,
   "metadata": {},
   "outputs": [
    {
     "name": "stdout",
     "output_type": "stream",
     "text": [
      "16\n",
      "34\n",
      "54\n"
     ]
    }
   ],
   "source": [
    "for numar in range(10, 100):\n",
    "    if numar % 15 == (numar // 15)**2:\n",
    "        print(numar)"
   ]
  },
  {
   "cell_type": "code",
   "execution_count": 42,
   "metadata": {},
   "outputs": [
    {
     "name": "stdin",
     "output_type": "stream",
     "text": [
      "p = 10\n",
      "q = 25\n"
     ]
    },
    {
     "name": "stdout",
     "output_type": "stream",
     "text": [
      "11 13 17 19 23 \n",
      "5\n"
     ]
    }
   ],
   "source": [
    "p = int(input(\"p = \"))\n",
    "q = int(input(\"q = \"))\n",
    "\n",
    "ls = []\n",
    "for numar in range(p,q + 1):\n",
    "    if numar > 1:\n",
    "        for i in range(2,numar//2+1):\n",
    "            if (numar % i) == 0: break\n",
    "        else:\n",
    "            print(numar, end = ' ')\n",
    "            ls.append(numar)\n",
    "print()\n",
    "print(len(ls))"
   ]
  },
  {
   "cell_type": "code",
   "execution_count": null,
   "metadata": {},
   "outputs": [],
   "source": []
  },
  {
   "cell_type": "code",
   "execution_count": null,
   "metadata": {},
   "outputs": [],
   "source": []
  },
  {
   "cell_type": "code",
   "execution_count": null,
   "metadata": {},
   "outputs": [],
   "source": []
  },
  {
   "cell_type": "code",
   "execution_count": 10,
   "metadata": {},
   "outputs": [
    {
     "name": "stdout",
     "output_type": "stream",
     "text": [
      "Monitorul suporta gama de culori - DCI-P3. Are o rezolutie de - 2073600 pixeli la diagonala de 32 inch.\n",
      "Monitorul suporta gama de culori - sRGB. Are o rezolutie de - 3686400 pixeli la diagonala de 24 inch.\n",
      "Monitorul 2 are rezolutia mai mare!\n",
      "\n",
      "Monitorul 1 are diagonala mai mare!\n",
      "\n",
      "Monitorul 2 are DPI mai mare!\n",
      "\n"
     ]
    }
   ],
   "source": [
    "class Monitor:\n",
    "    \n",
    "    color_type = {\n",
    "            1: \"sRGB\",\n",
    "            2: \"AdobeRGB\",\n",
    "            3: \"DCI-P3\",\n",
    "            4: \"NTSC\"\n",
    "        }\n",
    "    \n",
    "    def __init__(self, color, dimensions, resolution):  #Aici telegramul editeaza\n",
    "        self.color = color\n",
    "        self.dimensions = dimensions\n",
    "        self.resolution = resolution\n",
    "    \n",
    "    def __str__(self):\n",
    "        return \"Monitorul suporta gama de culori - \"+ str(self.color_type[self.color]) + \". Are o rezolutie de - \" + str(self.resolution) + \" pixeli la diagonala de \" + str(self.dimensions) + \" inch.\"\n",
    "    \n",
    "\n",
    "def compare_dpi (rezolutia_1, diagonala_1, rezolutia_2, diagonala_2):\n",
    "    print(\"Monitorul 1 are rezolutia mai mare!\\n\" if rezolutia_1 > rezolutia_2 else \"Monitorul 2 are rezolutia mai mare!\\n\")\n",
    "    print(\"Monitorul 1 are diagonala mai mare!\\n\" if diagonala_1 > diagonala_2 else \"Monitorul 2 are diagonala mai mare!\\n\")\n",
    "    print(\"Monitorul 1 are DPI mai mare!\\n\" if rezolutia_1/diagonala_1 > rezolutia_2/diagonala_2 else \"Monitorul 2 are DPI mai mare!\\n\")\n",
    "    \n",
    "\n",
    "ecran_1 = Monitor(3, 32, 1920*1080)\n",
    "ecran_2 = Monitor(1, 24, 2560*1440)\n",
    "\n",
    "print(ecran_1)\n",
    "print(ecran_2)\n",
    "\n",
    "compare_dpi(ecran_1.resolution, ecran_1.dimensions, ecran_2.resolution, ecran_2.dimensions)"
   ]
  },
  {
   "cell_type": "code",
   "execution_count": null,
   "metadata": {},
   "outputs": [],
   "source": []
  },
  {
   "cell_type": "code",
   "execution_count": 4,
   "metadata": {},
   "outputs": [],
   "source": [
    "class Box:\n",
    "    def __init__(self, *args):\n",
    "        if len(list(*args))==1:\n",
    "            self.height = args[0]\n",
    "            self.widht = args[0]\n",
    "            self.depth = args[0]"
   ]
  },
  {
   "cell_type": "code",
   "execution_count": 5,
   "metadata": {},
   "outputs": [
    {
     "ename": "TypeError",
     "evalue": "'int' object is not iterable",
     "output_type": "error",
     "traceback": [
      "\u001b[1;31m---------------------------------------------------------------------------\u001b[0m",
      "\u001b[1;31mTypeError\u001b[0m                                 Traceback (most recent call last)",
      "\u001b[1;32m<ipython-input-5-d4f1f8afea59>\u001b[0m in \u001b[0;36m<module>\u001b[1;34m\u001b[0m\n\u001b[1;32m----> 1\u001b[1;33m \u001b[0mb\u001b[0m \u001b[1;33m=\u001b[0m \u001b[0mBox\u001b[0m\u001b[1;33m(\u001b[0m\u001b[1;36m1\u001b[0m\u001b[1;33m)\u001b[0m\u001b[1;33m\u001b[0m\u001b[1;33m\u001b[0m\u001b[0m\n\u001b[0m",
      "\u001b[1;32m<ipython-input-4-73ed1780de27>\u001b[0m in \u001b[0;36m__init__\u001b[1;34m(self, *args)\u001b[0m\n\u001b[0;32m      1\u001b[0m \u001b[1;32mclass\u001b[0m \u001b[0mBox\u001b[0m\u001b[1;33m:\u001b[0m\u001b[1;33m\u001b[0m\u001b[1;33m\u001b[0m\u001b[0m\n\u001b[0;32m      2\u001b[0m     \u001b[1;32mdef\u001b[0m \u001b[0m__init__\u001b[0m\u001b[1;33m(\u001b[0m\u001b[0mself\u001b[0m\u001b[1;33m,\u001b[0m \u001b[1;33m*\u001b[0m\u001b[0margs\u001b[0m\u001b[1;33m)\u001b[0m\u001b[1;33m:\u001b[0m\u001b[1;33m\u001b[0m\u001b[1;33m\u001b[0m\u001b[0m\n\u001b[1;32m----> 3\u001b[1;33m         \u001b[1;32mif\u001b[0m \u001b[0mlen\u001b[0m\u001b[1;33m(\u001b[0m\u001b[0mlist\u001b[0m\u001b[1;33m(\u001b[0m\u001b[1;33m*\u001b[0m\u001b[0margs\u001b[0m\u001b[1;33m)\u001b[0m\u001b[1;33m)\u001b[0m\u001b[1;33m==\u001b[0m\u001b[1;36m1\u001b[0m\u001b[1;33m:\u001b[0m\u001b[1;33m\u001b[0m\u001b[1;33m\u001b[0m\u001b[0m\n\u001b[0m\u001b[0;32m      4\u001b[0m             \u001b[0mself\u001b[0m\u001b[1;33m.\u001b[0m\u001b[0mheight\u001b[0m \u001b[1;33m=\u001b[0m \u001b[0margs\u001b[0m\u001b[1;33m[\u001b[0m\u001b[1;36m0\u001b[0m\u001b[1;33m]\u001b[0m\u001b[1;33m\u001b[0m\u001b[1;33m\u001b[0m\u001b[0m\n\u001b[0;32m      5\u001b[0m             \u001b[0mself\u001b[0m\u001b[1;33m.\u001b[0m\u001b[0mwidht\u001b[0m \u001b[1;33m=\u001b[0m \u001b[0margs\u001b[0m\u001b[1;33m[\u001b[0m\u001b[1;36m0\u001b[0m\u001b[1;33m]\u001b[0m\u001b[1;33m\u001b[0m\u001b[1;33m\u001b[0m\u001b[0m\n",
      "\u001b[1;31mTypeError\u001b[0m: 'int' object is not iterable"
     ]
    }
   ],
   "source": [
    "b = Box(1)"
   ]
  },
  {
   "cell_type": "code",
   "execution_count": null,
   "metadata": {},
   "outputs": [],
   "source": []
  }
 ],
 "metadata": {
  "kernelspec": {
   "display_name": "Python 3",
   "language": "python",
   "name": "python3"
  },
  "language_info": {
   "codemirror_mode": {
    "name": "ipython",
    "version": 3
   },
   "file_extension": ".py",
   "mimetype": "text/x-python",
   "name": "python",
   "nbconvert_exporter": "python",
   "pygments_lexer": "ipython3",
   "version": "3.8.3"
  }
 },
 "nbformat": 4,
 "nbformat_minor": 4
}
