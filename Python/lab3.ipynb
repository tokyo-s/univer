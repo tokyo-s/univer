{
 "cells": [
  {
   "cell_type": "code",
   "execution_count": 18,
   "metadata": {},
   "outputs": [
    {
     "name": "stdin",
     "output_type": "stream",
     "text": [
      " fddf\n"
     ]
    },
    {
     "name": "stdout",
     "output_type": "stream",
     "text": [
      "wrong x\n"
     ]
    },
    {
     "name": "stdin",
     "output_type": "stream",
     "text": [
      " 5\n",
      " dfdfdfd\n"
     ]
    },
    {
     "name": "stdout",
     "output_type": "stream",
     "text": [
      "wrong y\n"
     ]
    },
    {
     "name": "stdin",
     "output_type": "stream",
     "text": [
      " 5\n"
     ]
    },
    {
     "name": "stdout",
     "output_type": "stream",
     "text": [
      "10\n"
     ]
    }
   ],
   "source": [
    "while True:\n",
    "    x = input()\n",
    "    if not x.isdigit():\n",
    "        print('wrong x')\n",
    "    else: break\n",
    "\n",
    "while True:\n",
    "    y = input()\n",
    "    if not y.isdigit():\n",
    "        print('wrong y')\n",
    "    else: break\n",
    "print(int(x)+int(y))"
   ]
  },
  {
   "cell_type": "code",
   "execution_count": 19,
   "metadata": {},
   "outputs": [
    {
     "data": {
      "text/plain": [
       "[4, 64, [4, 6, 5]]"
      ]
     },
     "execution_count": 19,
     "metadata": {},
     "output_type": "execute_result"
    }
   ],
   "source": [
    "lst = [4,64]\n",
    "lst.append([4,6,5])\n",
    "lst"
   ]
  },
  {
   "cell_type": "code",
   "execution_count": 24,
   "metadata": {},
   "outputs": [],
   "source": [
    "def liniarizare(lst):\n",
    "    lst_new = []\n",
    "    for elem in lst:\n",
    "        if type(elem) == list:\n",
    "            for i in liniarizare(elem):\n",
    "                lst_new.append(i) \n",
    "        else:\n",
    "            lst_new.append(elem)\n",
    "    return lst_new"
   ]
  },
  {
   "cell_type": "code",
   "execution_count": 31,
   "metadata": {},
   "outputs": [
    {
     "data": {
      "text/plain": [
       "[1, 2, 1, 2, 1, 1, 1, 4, 3, 6, 5, 2, 4, 6, 3, 4, 4, 6, 3, 5]"
      ]
     },
     "execution_count": 31,
     "metadata": {},
     "output_type": "execute_result"
    }
   ],
   "source": [
    "liniarizare([[1,2,1,2,1,[1,1]],4,3,6,5,2,[4,6,3,[4,[4,6,3,[5]]]]])"
   ]
  },
  {
   "cell_type": "code",
   "execution_count": 37,
   "metadata": {},
   "outputs": [
    {
     "name": "stdout",
     "output_type": "stream",
     "text": [
      "ACEST CASET\n",
      "UNT TUN\n"
     ]
    }
   ],
   "source": [
    "from collections import Counter\n",
    "\n",
    "def LetterCount(text):\n",
    "    return Counter(c for c in text.lower() if c.isalpha())\n",
    "\n",
    "lst = ['ACEST','UNT','CASET','TUN']\n",
    "for i in range(len(lst)):\n",
    "    for j in range(i+1,len(lst)):\n",
    "        if LetterCount(lst[i]) == LetterCount(lst[j]):\n",
    "            print(lst[i],lst[j])"
   ]
  },
  {
   "cell_type": "code",
   "execution_count": 42,
   "metadata": {},
   "outputs": [
    {
     "data": {
      "text/plain": [
       "{'0': 0, '1': 1}"
      ]
     },
     "execution_count": 42,
     "metadata": {},
     "output_type": "execute_result"
    }
   ],
   "source": [
    "dic = {0:'0',1:'1'}\n",
    "\n",
    "def invertdict(dic):\n",
    "    return {v: k for k, v in dic.items()}\n",
    "\n",
    "invertdict(dic)"
   ]
  },
  {
   "cell_type": "code",
   "execution_count": 45,
   "metadata": {},
   "outputs": [
    {
     "data": {
      "text/plain": [
       "56"
      ]
     },
     "execution_count": 45,
     "metadata": {},
     "output_type": "execute_result"
    }
   ],
   "source": [
    "import numpy as np\n",
    "lst1 = [3,4,5]\n",
    "lst2 = [4,6,4]\n",
    "\n",
    "def mult_lists(a,b):\n",
    "    return np.dot(a,b)\n",
    "\n",
    "mult_lists(lst1,lst2)"
   ]
  },
  {
   "cell_type": "code",
   "execution_count": 70,
   "metadata": {},
   "outputs": [
    {
     "name": "stdout",
     "output_type": "stream",
     "text": [
      "McCane\n",
      "Garner\n",
      "Meek\n",
      "Anderson\n",
      "Byars\n",
      "Carver\n",
      "de Wattinger\n",
      "\n",
      "{'Nick', 'Delia', 'Barry', 'Christine', 'Allan', 'Brendan', 'Sandy'}\n",
      "\n",
      "{('Brendan', 'McCane'), ('Nick', 'Meek'), ('Sandy', 'Garner')}\n",
      "\n",
      "{('Christine', 'Carver'), ('Allan', 'Anderson'), ('Barry', 'Byars'), ('Delia', 'de Wattinger')}\n",
      "\n",
      "Christine Carver\n",
      "Allan Anderson\n",
      "Barry Byars\n",
      "Delia de Wattinger\n",
      "\n",
      "B. McCane\n",
      "N. Meek\n",
      "S. Garner\n"
     ]
    }
   ],
   "source": [
    "brendan = (\"Brendan\", \"McCane\")\n",
    "sandy = (\"Sandy\", \"Garner\")\n",
    "nick = (\"Nick\", \"Meek\")\n",
    "student1 = (\"Allan\", \"Anderson\")\n",
    "student2 = (\"Barry\", \"Byars\")\n",
    "student3 = (\"Christine\", \"Carver\")\n",
    "student4 = (\"Delia\", \"de Wattinger\")\n",
    "\n",
    "people_list = [brendan, sandy , nick, student1,student2,student3,student4]\n",
    "for people in people_list:\n",
    "    print(people[1])\n",
    "\n",
    "print()\n",
    "Visio = set()\n",
    "for people in people_list:\n",
    "    Visio.add(people[0])\n",
    "print(Visio)\n",
    "\n",
    "print()\n",
    "profesori = set()\n",
    "for people in people_list[:3]:\n",
    "    profesori.add(people)\n",
    "print(profesori)\n",
    "\n",
    "print()\n",
    "studenti = set()\n",
    "for people in people_list[3:]:\n",
    "    studenti.add(people)\n",
    "print(studenti)\n",
    "\n",
    "print()\n",
    "for student in studenti:\n",
    "    print(student[0],student[1])\n",
    "\n",
    "print()\n",
    "for teacher in profesori:\n",
    "    print(teacher[0][0]+'.',teacher[1])"
   ]
  },
  {
   "cell_type": "code",
   "execution_count": 4,
   "metadata": {},
   "outputs": [
    {
     "name": "stdout",
     "output_type": "stream",
     "text": [
      "the\n",
      "Lorem\n",
      "Ipsum\n",
      "of\n",
      "and\n",
      "dummy\n",
      "text\n",
      "typesetting\n",
      "industry\n",
      "has\n",
      "a\n",
      "type\n",
      "It\n",
      "with\n",
      "is\n",
      "simply\n",
      "printing\n",
      "been\n",
      "s\n",
      "standard\n",
      "ever\n",
      "since\n",
      "1500s\n",
      "when\n",
      "an\n",
      "unknown\n",
      "printer\n",
      "took\n",
      "galley\n",
      "scrambled\n",
      "it\n",
      "to\n",
      "make\n",
      "specimen\n",
      "book\n",
      "survived\n",
      "not\n",
      "only\n",
      "five\n",
      "centuries\n",
      "but\n",
      "also\n",
      "leap\n",
      "into\n",
      "electronic\n",
      "remaining\n",
      "essentially\n",
      "unchanged\n",
      "was\n",
      "popularised\n",
      "in\n",
      "1960s\n",
      "release\n",
      "Letraset\n",
      "sheets\n",
      "containing\n",
      "passages\n",
      "more\n",
      "recently\n",
      "desktop\n",
      "publishing\n",
      "software\n",
      "like\n",
      "Aldus\n",
      "PageMaker\n",
      "including\n",
      "versions\n"
     ]
    }
   ],
   "source": [
    "import re\n",
    "from collections import Counter\n",
    "\n",
    "with open('text.txt') as f:\n",
    "    x = f.read()\n",
    "words = re.findall(r'\\w+', x)\n",
    "words_counter = Counter(words)\n",
    "sorted_words = dict(sorted(words_counter.items(), key=lambda item: item[1],reverse = True))\n",
    "\n",
    "for i in range(len(sorted_words)):\n",
    "    print(list(sorted_words.keys())[i])"
   ]
  },
  {
   "cell_type": "code",
   "execution_count": 20,
   "metadata": {},
   "outputs": [
    {
     "name": "stdout",
     "output_type": "stream",
     "text": [
      "[' bo', 'a', 'aNt', 'eqf', 'oXi', 'olp', 'ous', 'rIm', 'rnp', 'tWe']\n"
     ]
    }
   ],
   "source": [
    "import string\n",
    "import random\n",
    "\n",
    "sir = 'o propozitie foarte frumoasa'\n",
    "\n",
    "fragmente = [sir[i:i+3] for i in range(0, len(sir), 3)]\n",
    "for i in range(len(fragmente)):\n",
    "    if len(fragmente[i])==3:\n",
    "        flag = True\n",
    "        while flag:\n",
    "            new_letter = random.choice(string.ascii_letters)\n",
    "            if new_letter not in [fragmente[i][0],fragmente[i][2]]:\n",
    "                flag = False\n",
    "        fragmente[i] = fragmente[i][0]+new_letter+fragmente[i][2]\n",
    "    \n",
    "print(sorted(fragmente))"
   ]
  },
  {
   "cell_type": "code",
   "execution_count": 47,
   "metadata": {},
   "outputs": [
    {
     "data": {
      "text/plain": [
       "4"
      ]
     },
     "execution_count": 47,
     "metadata": {},
     "output_type": "execute_result"
    }
   ],
   "source": [
    "d = {3:5,5:3,4:4,0:0,1:2}\n",
    "def eliminate(d):\n",
    "    to_delete = []\n",
    "    for i in d.items():\n",
    "        for j in d.items():\n",
    "            if i!=j:\n",
    "                if i[0]>j[1]:\n",
    "                    to_delete.append(i[0])\n",
    "    ln = len(set(to_delete))\n",
    "    for i in to_delete:\n",
    "        d.pop(i, None)\n",
    "    return ln\n",
    "\n",
    "eliminate(d)"
   ]
  },
  {
   "cell_type": "code",
   "execution_count": 45,
   "metadata": {},
   "outputs": [
    {
     "data": {
      "text/plain": [
       "4"
      ]
     },
     "execution_count": 45,
     "metadata": {},
     "output_type": "execute_result"
    }
   ],
   "source": []
  },
  {
   "cell_type": "code",
   "execution_count": 46,
   "metadata": {},
   "outputs": [
    {
     "data": {
      "text/plain": [
       "{0: 0}"
      ]
     },
     "execution_count": 46,
     "metadata": {},
     "output_type": "execute_result"
    }
   ],
   "source": []
  },
  {
   "cell_type": "code",
   "execution_count": null,
   "metadata": {},
   "outputs": [],
   "source": []
  }
 ],
 "metadata": {
  "kernelspec": {
   "display_name": "Python 3",
   "language": "python",
   "name": "python3"
  },
  "language_info": {
   "codemirror_mode": {
    "name": "ipython",
    "version": 3
   },
   "file_extension": ".py",
   "mimetype": "text/x-python",
   "name": "python",
   "nbconvert_exporter": "python",
   "pygments_lexer": "ipython3",
   "version": "3.8.3"
  }
 },
 "nbformat": 4,
 "nbformat_minor": 4
}
